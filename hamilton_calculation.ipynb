{
 "cells": [
  {
   "cell_type": "code",
   "execution_count": 43,
   "id": "7c19f7af",
   "metadata": {},
   "outputs": [
    {
     "name": "stdout",
     "output_type": "stream",
     "text": [
      "[[-2.  1.  1.  0.  1.  0.  0.  0.]\n",
      " [ 1.  0.  0.  1.  0.  1.  0.  0.]\n",
      " [ 1.  0.  2.  1.  0.  0.  1.  0.]\n",
      " [ 0.  1.  1.  0.  0.  0.  0.  1.]\n",
      " [ 1.  0.  0.  0.  0.  1.  1.  0.]\n",
      " [ 0.  1.  0.  0.  1.  2.  0.  1.]\n",
      " [ 0.  0.  1.  0.  1.  0.  0.  1.]\n",
      " [ 0.  0.  0.  1.  0.  1.  1. -2.]]\n"
     ]
    }
   ],
   "source": [
    "import tensorcircuit as tc\n",
    "import tensorflow as ts \n",
    "import numpy as np\n",
    "import math\n",
    "\n",
    "tc.set_backend(\"tensorflow\")\n",
    "\n",
    "def i_iterate_multiplication(n):\n",
    "    tmp = 1\n",
    "    for i in range(n):\n",
    "        tmp = np.kron(I, tmp)\n",
    "    return tmp\n",
    "\n",
    "n = 3\n",
    "h_i = 1\n",
    "H = 0\n",
    "theta = math.pi/2\n",
    "I = tc.gates._i_matrix\n",
    "X = tc.gates._x_matrix  \n",
    "Y = tc.gates._y_matrix  \n",
    "Z = tc.gates._z_matrix \n",
    "\n",
    "for i in range(0, n-1):\n",
    "    H = H - np.kron(np.kron(i_iterate_multiplication(i), np.kron(Z, Z)), i_iterate_multiplication(n-2-i))\n",
    "for i in range(0, n):\n",
    "    H = H + h_i * (np.kron(np.kron(i_iterate_multiplication(i), X), i_iterate_multiplication(n-1-i)))\n",
    "print(H)"
   ]
  },
  {
   "cell_type": "code",
   "execution_count": 86,
   "id": "1fff4eb4",
   "metadata": {},
   "outputs": [
    {
     "name": "stdout",
     "output_type": "stream",
     "text": [
      "SparseTensor(indices=tf.Tensor(\n",
      "[[0 0]\n",
      " [0 1]\n",
      " [0 2]\n",
      " [0 4]\n",
      " [1 0]\n",
      " [1 3]\n",
      " [1 5]\n",
      " [2 0]\n",
      " [2 2]\n",
      " [2 3]\n",
      " [2 6]\n",
      " [3 1]\n",
      " [3 2]\n",
      " [3 7]\n",
      " [4 0]\n",
      " [4 5]\n",
      " [4 6]\n",
      " [5 1]\n",
      " [5 4]\n",
      " [5 5]\n",
      " [5 7]\n",
      " [6 2]\n",
      " [6 4]\n",
      " [6 7]\n",
      " [7 3]\n",
      " [7 5]\n",
      " [7 6]\n",
      " [7 7]], shape=(28, 2), dtype=int64), values=tf.Tensor(\n",
      "[ 2.+0.j  1.+0.j  1.+0.j  1.+0.j  1.+0.j  1.+0.j  1.+0.j  1.+0.j -2.+0.j\n",
      "  1.+0.j  1.+0.j  1.+0.j  1.+0.j  1.+0.j  1.+0.j  1.+0.j  1.+0.j  1.+0.j\n",
      "  1.+0.j -2.+0.j  1.+0.j  1.+0.j  1.+0.j  1.+0.j  1.+0.j  1.+0.j  1.+0.j\n",
      "  2.+0.j], shape=(28,), dtype=complex64), dense_shape=tf.Tensor([8 8], shape=(2,), dtype=int64))\n"
     ]
    }
   ],
   "source": [
    "def make_list(t, n):\n",
    "    for i in range(n):\n",
    "        t.append(np.roll(t[-1], 1))\n",
    "n = 3\n",
    "h_i = 1\n",
    "a = [[0 for i in range(n)]]\n",
    "a[0][0] = 3\n",
    "a[0][1] = 3\n",
    "b = [[0 for i in range(n)]]\n",
    "b[0][0] = 1\n",
    "make_list(a, n-2)\n",
    "make_list(b, n-1)\n",
    "\n",
    "H_1 = tc.quantum.PauliStringSum2COO(np.array(a + b), numpy = False)\n",
    "print(H_1)"
   ]
  },
  {
   "cell_type": "code",
   "execution_count": null,
   "id": "93ba602f",
   "metadata": {},
   "outputs": [],
   "source": [
    "\n"
   ]
  }
 ],
 "metadata": {
  "kernelspec": {
   "display_name": "Python 3 (ipykernel)",
   "language": "python",
   "name": "python3"
  },
  "language_info": {
   "codemirror_mode": {
    "name": "ipython",
    "version": 3
   },
   "file_extension": ".py",
   "mimetype": "text/x-python",
   "name": "python",
   "nbconvert_exporter": "python",
   "pygments_lexer": "ipython3",
   "version": "3.8.13"
  }
 },
 "nbformat": 4,
 "nbformat_minor": 5
}
