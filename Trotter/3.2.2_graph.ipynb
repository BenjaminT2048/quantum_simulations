{
 "cells": [
  {
   "cell_type": "code",
   "execution_count": 23,
   "id": "3acbe64f",
   "metadata": {},
   "outputs": [],
   "source": [
    "import tensorcircuit as tc\n",
    "import tensorflow as ts \n",
    "import numpy as np\n",
    "import math\n",
    "from numpy import linalg as LA\n",
    "from matplotlib import pyplot as plt\n",
    "K = tc.set_backend(\"tensorflow\")\n",
    "tc.set_dtype(\"complex128\")\n",
    "sim_t = math.pi\n",
    "interval = 100\n",
    "dt = sim_t / interval\n",
    "cur_t = 0 \n",
    "h_m = 0.5\n",
    "\n",
    "qubit = 5\n",
    "min_w = 999\n",
    "w=0\n",
    "v=0\n",
    "I = tc.gates._i_matrix\n",
    "X = tc.gates._x_matrix  \n",
    "Y = tc.gates._y_matrix  \n",
    "Z = tc.gates._z_matrix\n",
    "\n",
    "\n"
   ]
  },
  {
   "cell_type": "code",
   "execution_count": 24,
   "id": "ec57b08e",
   "metadata": {
    "scrolled": true
   },
   "outputs": [],
   "source": [
    "def i_iterate_multiplication(u):\n",
    "    tmp = 1\n",
    "    for i in range(u):\n",
    "        tmp = np.kron(I, tmp)\n",
    "    return tmp\n",
    "\n",
    "def zzi(i):\n",
    "     return np.kron(np.kron(i_iterate_multiplication(i), np.kron(Z, Z)), i_iterate_multiplication(qubit-2-i))\n",
    "    \n",
    "def xi(i):\n",
    "    return np.kron(np.kron(i_iterate_multiplication(i), X), i_iterate_multiplication(qubit-1-i))\n",
    "\n",
    "h_Z = 0\n",
    "h_X = 0\n",
    "for i in range(qubit-1):\n",
    "    h_Z = h_Z - zzi(i)\n",
    "for i in range(qubit):\n",
    "    h_X = h_X + h_m * xi(i)\n",
    "def evolution(h, t):\n",
    "    return tc.gates.exponential_gate(h, t)\n",
    "w, v = LA.eig(h_X+h_Z)\n",
    "for i in range(0, len(w)):\n",
    "        if w[i] < min_w:\n",
    "            min_w = w[i]\n",
    "            \n",
    "c_precise=tc.Circuit(qubit)\n",
    "c_precise.any(*range(qubit), unitary=evolution(h_X+h_Z, sim_t))\n",
    "#print(c_precise.state())\n",
    "        \n",
    "def error(num):\n",
    "    dt0 = sim_t / num\n",
    "    c_trotter=tc.Circuit(qubit)\n",
    "    cur_t=0\n",
    "    for _interval in range(num):\n",
    "        c_trotter.any(*range(qubit), unitary=evolution(h_X, dt0))\n",
    "        c_trotter.any(*range(qubit), unitary=evolution(h_Z, dt0))\n",
    "        cur_t += dt0\n",
    "    return c_trotter.state()-c_precise.state()"
   ]
  },
  {
   "cell_type": "code",
   "execution_count": 28,
   "id": "302ad9ad",
   "metadata": {},
   "outputs": [
    {
     "data": {
      "image/png": "[encoded data removed]",
      "text/plain": [
       "<Figure size 432x288 with 1 Axes>"
      ]
     },
     "metadata": {
      "needs_background": "light"
     },
     "output_type": "display_data"
    }
   ],
   "source": [
    "theta_list = np.arange(100, 1000, 100)\n",
    "plt.plot(theta_list, [K.real(error(theta))[0].numpy()*(theta) for theta in theta_list])\n",
    "plt.plot(theta_list, [K.real(error(theta))[1].numpy()*(-theta) for theta in theta_list])\n",
    "plt.show()"
   ]
  },
  {
   "cell_type": "code",
   "execution_count": 29,
   "id": "1cbc0fe7",
   "metadata": {},
   "outputs": [
    {
     "data": {
      "image/png": "[encoded data removed]",
      "text/plain": [
       "<Figure size 432x288 with 1 Axes>"
      ]
     },
     "metadata": {
      "needs_background": "light"
     },
     "output_type": "display_data"
    }
   ],
   "source": [
    "theta_list = np.arange(100, 1000, 100)\n",
    "plt.plot(theta_list, [K.real(error(theta))[0].numpy()*(theta*theta) for theta in theta_list])\n",
    "plt.plot(theta_list, [K.real(error(theta))[1].numpy()*(-theta*theta) for theta in theta_list])\n",
    "plt.show()"
   ]
  },
  {
   "cell_type": "code",
   "execution_count": null,
   "id": "e32351e6",
   "metadata": {},
   "outputs": [],
   "source": []
  }
 ],
 "metadata": {
  "kernelspec": {
   "display_name": "Python 3 (ipykernel)",
   "language": "python",
   "name": "python3"
  },
  "language_info": {
   "codemirror_mode": {
    "name": "ipython",
    "version": 3
   },
   "file_extension": ".py",
   "mimetype": "text/x-python",
   "name": "python",
   "nbconvert_exporter": "python",
   "pygments_lexer": "ipython3",
   "version": "3.8.13"
  }
 },
 "nbformat": 4,
 "nbformat_minor": 5
}
