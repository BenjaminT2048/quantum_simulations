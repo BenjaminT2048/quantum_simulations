{
 "cells": [
  {
   "cell_type": "code",
   "execution_count": 204,
   "id": "434fb674",
   "metadata": {},
   "outputs": [],
   "source": [
    "import tensorcircuit as tc\n",
    "import tensorflow as ts \n",
    "import numpy as np\n",
    "import math\n",
    "from numpy import linalg as LA\n",
    "from matplotlib import pyplot as plt\n",
    "K = tc.set_backend(\"tensorflow\")\n",
    "tc.set_dtype(\"complex128\")\n",
    "\n",
    "sim_t = math.pi\n",
    "interval = 20\n",
    "dt = sim_t / interval\n",
    "cur_t = 0 \n",
    "h_m = 0.5\n",
    "\n",
    "qubit = 5\n",
    "min_w = 999\n",
    "w=0\n",
    "v=0\n",
    "I = tc.gates._i_matrix\n",
    "X = tc.gates._x_matrix  \n",
    "Y = tc.gates._y_matrix  \n",
    "Z = tc.gates._z_matrix\n",
    "\n",
    "\n"
   ]
  },
  {
   "cell_type": "code",
   "execution_count": 205,
   "id": "691b75d1",
   "metadata": {},
   "outputs": [],
   "source": [
    "def i_iterate_multiplication(u):\n",
    "    tmp = 1\n",
    "    for i in range(u):\n",
    "        tmp = np.kron(I, tmp)\n",
    "    return tmp\n",
    "\n",
    "def zzi(i):\n",
    "     return np.kron(np.kron(i_iterate_multiplication(i), np.kron(Z, Z)), i_iterate_multiplication(qubit-2-i))\n",
    "def xi(i):\n",
    "    return np.kron(np.kron(i_iterate_multiplication(i), X), i_iterate_multiplication(qubit-1-i))\n",
    "def zi(i):\n",
    "    return np.kron(np.kron(i_iterate_multiplication(i), Z), i_iterate_multiplication(qubit-1-i))\n",
    "\n",
    "h_Z = 0\n",
    "h_ZZ = 0\n",
    "h_X = 0\n",
    "for i in range(qubit):\n",
    "    h_Z = h_Z + zi(i)\n",
    "for i in range(qubit-1):\n",
    "    h_ZZ = h_ZZ - zzi(i)\n",
    "for i in range(qubit):\n",
    "    h_X = h_X + h_m * xi(i)\n",
    "def evolution(h, t):\n",
    "    return tc.gates.exponential_gate(h, t)"
   ]
  },
  {
   "cell_type": "code",
   "execution_count": 206,
   "id": "b6c6d60f",
   "metadata": {
    "scrolled": true
   },
   "outputs": [
    {
     "name": "stdout",
     "output_type": "stream",
     "text": [
      "0\n",
      "5\n",
      "10\n",
      "15\n"
     ]
    }
   ],
   "source": [
    "#w, v = LA.eig(H)\n",
    "#for i in range(0, len(w)):\n",
    "#        if w[i] < min_w:\n",
    "#            min_w = w[i]\n",
    "\n",
    "c_precise = tc.Circuit(qubit)\n",
    "c_trotter3 = tc.Circuit(qubit)\n",
    "c_trotter2 = tc.Circuit(qubit)\n",
    "state_precise = c_precise.state()\n",
    "state_trotter3 = c_trotter3.state()\n",
    "state_trotter2 = c_trotter2.state()\n",
    "cnt=0;\n",
    "zt2=[0 for i in range(10000)]\n",
    "zt3=[0 for i in range(10000)]\n",
    "zp=[0 for i in range(10000)]\n",
    "time=[0 for i in range(10000)]\n",
    "u2=1/(4-4**(1/3))\n",
    "\n",
    "\n",
    "for _interval in range(interval):\n",
    "    if(_interval % 5 == 0):\n",
    "        print(_interval)\n",
    "    c_precise = tc.Circuit(qubit, inputs = state_precise)\n",
    "    c_trotter3 = tc.Circuit(qubit, inputs = state_trotter3)\n",
    "    c_trotter2 = tc.Circuit(qubit, inputs = state_trotter2)\n",
    "    \n",
    "    c_trotter3.any(*range(qubit), unitary=evolution(h_X, u2*dt/2))\n",
    "    c_trotter3.any(*range(qubit), unitary=evolution(h_ZZ, u2*dt))\n",
    "    c_trotter3.any(*range(qubit), unitary=evolution(h_X, 0.5*u2*dt))\n",
    "    \n",
    "    c_trotter3.any(*range(qubit), unitary=evolution(h_X, (1-4*u2)*dt/2))\n",
    "    c_trotter3.any(*range(qubit), unitary=evolution(h_ZZ, (1-4*u2)*dt))\n",
    "    c_trotter3.any(*range(qubit), unitary=evolution(h_X, 0.5*(1-4*u2)*dt))\n",
    "    \n",
    "    c_trotter3.any(*range(qubit), unitary=evolution(h_X, u2*dt/2))\n",
    "    c_trotter3.any(*range(qubit), unitary=evolution(h_ZZ, u2*dt))\n",
    "    c_trotter3.any(*range(qubit), unitary=evolution(h_X, 0.5*u2*dt))\n",
    "    c_trotter3.any(*range(qubit), unitary=evolution(h_X, u2*dt/2))\n",
    "    c_trotter3.any(*range(qubit), unitary=evolution(h_ZZ, u2*dt))\n",
    "    c_trotter3.any(*range(qubit), unitary=evolution(h_X, 0.5*u2*dt))\n",
    "    \n",
    "    c_trotter2.any(*range(qubit), unitary=evolution(h_X, dt))\n",
    "    c_trotter2.any(*range(qubit), unitary=evolution(h_ZZ, dt))\n",
    "    cur_t += dt\n",
    "    c_precise.any(*range(qubit), unitary=evolution(h_ZZ+h_X, dt))\n",
    "    zt3[cnt]=c_trotter3.expectation((h_Z, [*range(qubit)]))\n",
    "    zt2[cnt]=c_trotter2.expectation((h_Z, [*range(qubit)]))\n",
    "    zp[cnt]=c_precise.expectation((h_Z, [*range(qubit)]))\n",
    "    time[cnt]=cur_t\n",
    "    cnt+=1\n",
    "    state_precise = c_precise.state()\n",
    "    state_trotter3 = c_trotter3.state()\n",
    "    state_trotter2 = c_trotter2.state()\n"
   ]
  },
  {
   "cell_type": "code",
   "execution_count": 209,
   "id": "7fb81db4",
   "metadata": {},
   "outputs": [
    {
     "data": {
      "image/png": "[encoded data removed]",
      "text/plain": [
       "<Figure size 432x288 with 1 Axes>"
      ]
     },
     "metadata": {
      "needs_background": "light"
     },
     "output_type": "display_data"
    }
   ],
   "source": [
    "fig, ax = plt.subplots() \n",
    "plt.plot([time[i] for i in range(interval)], [zt3[i]-zp[i] for i in range(interval)], color = \"#9966FF\", lw = 1,label=\"loss3\") \n",
    "plt.plot([time[i] for i in range(interval)], [zt2[i]-zp[i] for i in range(interval)], color = \"#666666\", lw = 1,label=\"loss2\")\n",
    "ax.spines[\"left\"].set_visible(False)\n",
    "ax.spines[\"top\"].set_visible(False)\n",
    "ax.spines[\"right\"].set_visible(False)\n",
    "ax.grid(ls = \"--\", lw = 0.8, color = \"#4E616C\")\n",
    "ax.set_xlabel(\"time\") \n",
    "ax.set_ylabel(\"loss\")\n",
    "ax.set_title(\"comparation of losses\") \n",
    "plt.legend() \n",
    "plt.show()"
   ]
  },
  {
   "cell_type": "code",
   "execution_count": null,
   "id": "e25acef3",
   "metadata": {},
   "outputs": [],
   "source": []
  }
 ],
 "metadata": {
  "kernelspec": {
   "display_name": "Python 3 (ipykernel)",
   "language": "python",
   "name": "python3"
  },
  "language_info": {
   "codemirror_mode": {
    "name": "ipython",
    "version": 3
   },
   "file_extension": ".py",
   "mimetype": "text/x-python",
   "name": "python",
   "nbconvert_exporter": "python",
   "pygments_lexer": "ipython3",
   "version": "3.8.13"
  }
 },
 "nbformat": 4,
 "nbformat_minor": 5
}
