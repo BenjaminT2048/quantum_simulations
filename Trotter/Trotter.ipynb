{
 "cells": [
  {
   "cell_type": "code",
   "execution_count": 1,
   "id": "f06ef30a",
   "metadata": {},
   "outputs": [],
   "source": [
    "import tensorcircuit as tc\n",
    "import tensorflow as ts \n",
    "import numpy as np\n",
    "import math\n",
    "from numpy import linalg as LA\n",
    "K = tc.set_backend(\"tensorflow\")\n",
    "\n",
    "sim_t = math.pi\n",
    "interval = 10000\n",
    "dt = sim_t / interval\n",
    "cur_t = 0 \n",
    "h_m = 0.5\n",
    "\n",
    "qubit = 2\n",
    "min_w = 999\n",
    "w=0\n",
    "v=0\n",
    "I = tc.gates._i_matrix\n",
    "X = tc.gates._x_matrix  \n",
    "Y = tc.gates._y_matrix  \n",
    "Z = tc.gates._z_matrix"
   ]
  },
  {
   "cell_type": "code",
   "execution_count": 2,
   "id": "d07640a4",
   "metadata": {},
   "outputs": [],
   "source": [
    "def i_iterate_multiplication(u):\n",
    "    tmp = 1\n",
    "    for i in range(u):\n",
    "        tmp = np.kron(I, tmp)\n",
    "    return tmp\n",
    "\n",
    "def zzi(i):\n",
    "     return np.kron(np.kron(i_iterate_multiplication(i), np.kron(Z, Z)), i_iterate_multiplication(qubit-2-i))\n",
    "    \n",
    "def xi(i):\n",
    "    return np.kron(np.kron(i_iterate_multiplication(i), X), i_iterate_multiplication(qubit-1-i))\n",
    "\n",
    "h_Z = 0\n",
    "h_X = 0\n",
    "for i in range(qubit-1):\n",
    "    h_Z = h_Z - zzi(i)\n",
    "for i in range(qubit):\n",
    "    h_X = h_X + h_m * xi(i)\n",
    "def evolution(h, t):\n",
    "    return tc.gates.exponential_gate(h, t)"
   ]
  },
  {
   "cell_type": "code",
   "execution_count": 4,
   "id": "2990191d",
   "metadata": {},
   "outputs": [
    {
     "name": "stdout",
     "output_type": "stream",
     "text": [
      "tf.Tensor(\n",
      "[-6.3312793e-01-0.34079105j  2.5527278e-09+0.340791j\n",
      "  1.4097814e-08+0.34079096j  3.6687195e-01-0.3407909j ], shape=(4,), dtype=complex64)\n",
      "tf.Tensor(\n",
      "[-6.3280398e-01-0.34062576j  1.2966990e-04+0.3406784j\n",
      "  1.2699515e-04+0.34067908j  3.6669871e-01-0.3406357j ], shape=(4,), dtype=complex64)\n"
     ]
    }
   ],
   "source": [
    "#w, v = LA.eig(H)\n",
    "#for i in range(0, len(w)):\n",
    "#        if w[i] < min_w:\n",
    "#            min_w = w[i]\n",
    "\n",
    "c_precise=tc.Circuit(qubit)\n",
    "c_trotter=tc.Circuit(qubit)\n",
    "u_h = evolution(h_X+h_Z, sim_t)\n",
    "u_X = evolution(h_X, dt)\n",
    "u_Y = evolution(h_Z, dt)\n",
    "c_precise.any(*range(qubit), unitary=evolution(h_X+h_Z, sim_t))\n",
    "print(c_precise.state())\n",
    "for _interval in range(interval):\n",
    "    c_trotter.any(*range(qubit), unitary=evolution(h_X, dt))\n",
    "    c_trotter.any(*range(qubit), unitary=evolution(h_Z, dt))\n",
    "    cur_t += dt\n",
    "print(c_trotter.state())"
   ]
  },
  {
   "cell_type": "code",
   "execution_count": null,
   "id": "dbbaf436",
   "metadata": {},
   "outputs": [],
   "source": []
  }
 ],
 "metadata": {
  "kernelspec": {
   "display_name": "Python 3 (ipykernel)",
   "language": "python",
   "name": "python3"
  },
  "language_info": {
   "codemirror_mode": {
    "name": "ipython",
    "version": 3
   },
   "file_extension": ".py",
   "mimetype": "text/x-python",
   "name": "python",
   "nbconvert_exporter": "python",
   "pygments_lexer": "ipython3",
   "version": "3.10.5"
  }
 },
 "nbformat": 4,
 "nbformat_minor": 5
}
