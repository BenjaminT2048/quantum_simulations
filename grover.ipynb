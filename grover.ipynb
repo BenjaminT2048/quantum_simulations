{
 "cells": [
  {
   "cell_type": "code",
   "execution_count": null,
   "id": "636db091",
   "metadata": {},
   "outputs": [],
   "source": [
    "import numpy as np\n",
    "import tensorcircuit as tc\n",
    "import tensorflow as tf\n",
    "import math\n",
    "\n",
    "n = 6\n",
    "m = 2\n",
    "tot_qubit = 14\n",
    "theta = math.asin(1.0/(4*math.sqrt(2)))\n",
    "r = round((math.pi / (2 * theta) - 1) / 2)\n",
    "c = tc.Circuit(tot_qubit)\n",
    "\n",
    "def oracle(c, n):\n",
    "    return c\n",
    "\n",
    "def reflection(c, n):\n",
    "    for i in range(n):\n",
    "        c.H(i)\n",
    "        c.X(i)\n",
    "    c.multicontrol(*range(n), unitary=tc.gates.z(), ctrl=[1 for _ in range(n - 1)])\n",
    "    for i in range(n):\n",
    "        c.X(i)\n",
    "        c.H(i)\n",
    "    return c\n",
    "\n",
    "for i in range(6):\n",
    "    c.H(i)\n",
    "for i in range(6, tot_qubit):\n",
    "    c.X(i)\n",
    "for j in range(r):\n",
    "    c = oracle(c, n)\n",
    "    c = reflection(c, n)\n",
    "c.draw(output=\"mpl\")"
   ]
  }
 ],
 "metadata": {
  "kernelspec": {
   "display_name": "Python 3 (ipykernel)",
   "language": "python",
   "name": "python3"
  },
  "language_info": {
   "codemirror_mode": {
    "name": "ipython",
    "version": 3
   },
   "file_extension": ".py",
   "mimetype": "text/x-python",
   "name": "python",
   "nbconvert_exporter": "python",
   "pygments_lexer": "ipython3",
   "version": "3.8.13"
  }
 },
 "nbformat": 4,
 "nbformat_minor": 5
}
