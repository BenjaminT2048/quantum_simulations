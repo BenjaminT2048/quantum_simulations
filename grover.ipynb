{
 "cells": [
  {
   "cell_type": "code",
   "execution_count": 2,
   "id": "636db091",
   "metadata": {},
   "outputs": [
    {
     "ename": "AttributeError",
     "evalue": "'NoneType' object has no attribute 'H'",
     "output_type": "error",
     "traceback": [
      "\u001b[0;31m---------------------------------------------------------------------------\u001b[0m",
      "\u001b[0;31mAttributeError\u001b[0m                            Traceback (most recent call last)",
      "Input \u001b[0;32mIn [2]\u001b[0m, in \u001b[0;36m<cell line: 47>\u001b[0;34m()\u001b[0m\n\u001b[1;32m     47\u001b[0m \u001b[38;5;28;01mfor\u001b[39;00m j \u001b[38;5;129;01min\u001b[39;00m \u001b[38;5;28mrange\u001b[39m(r):\n\u001b[1;32m     48\u001b[0m     c \u001b[38;5;241m=\u001b[39m oracle(c, n)\n\u001b[0;32m---> 49\u001b[0m     c \u001b[38;5;241m=\u001b[39m \u001b[43mreflection\u001b[49m\u001b[43m(\u001b[49m\u001b[43mc\u001b[49m\u001b[43m,\u001b[49m\u001b[43m \u001b[49m\u001b[43mn\u001b[49m\u001b[43m)\u001b[49m\n\u001b[1;32m     50\u001b[0m c\u001b[38;5;241m.\u001b[39mdraw(output\u001b[38;5;241m=\u001b[39m\u001b[38;5;124m\"\u001b[39m\u001b[38;5;124mmpl\u001b[39m\u001b[38;5;124m\"\u001b[39m)\n",
      "Input \u001b[0;32mIn [2]\u001b[0m, in \u001b[0;36mreflection\u001b[0;34m(c, n)\u001b[0m\n\u001b[1;32m     26\u001b[0m \u001b[38;5;28;01mdef\u001b[39;00m \u001b[38;5;21mreflection\u001b[39m(c, n):\n\u001b[1;32m     27\u001b[0m     \u001b[38;5;28;01mfor\u001b[39;00m i \u001b[38;5;129;01min\u001b[39;00m \u001b[38;5;28mrange\u001b[39m(n):\n\u001b[0;32m---> 28\u001b[0m         \u001b[43mc\u001b[49m\u001b[38;5;241;43m.\u001b[39;49m\u001b[43mH\u001b[49m(i)\n\u001b[1;32m     29\u001b[0m         c\u001b[38;5;241m.\u001b[39mX(i)\n\u001b[1;32m     30\u001b[0m     c\u001b[38;5;241m.\u001b[39mmulticontrol(\u001b[38;5;241m*\u001b[39m\u001b[38;5;28mrange\u001b[39m(n), unitary \u001b[38;5;241m=\u001b[39m tc\u001b[38;5;241m.\u001b[39mgates\u001b[38;5;241m.\u001b[39mz(), ctrl\u001b[38;5;241m=\u001b[39m[\u001b[38;5;241m1\u001b[39m \u001b[38;5;28;01mfor\u001b[39;00m _ \u001b[38;5;129;01min\u001b[39;00m \u001b[38;5;28mrange\u001b[39m(n \u001b[38;5;241m-\u001b[39m \u001b[38;5;241m1\u001b[39m)])\n",
      "\u001b[0;31mAttributeError\u001b[0m: 'NoneType' object has no attribute 'H'"
     ]
    }
   ],
   "source": [
    "import numpy as np\n",
    "import tensorcircuit as tc\n",
    "import tensorflow as tf\n",
    "import math\n",
    "\n",
    "def comp(c, i, j, k):\n",
    "    c.ccnot(i, j, k)\n",
    "    c.X(i)\n",
    "    c.X(j)\n",
    "    c.ccnot(i, j, k)\n",
    "    c.X(i)\n",
    "    c.X(j)\n",
    "    return c\n",
    "\n",
    "def oracle(c, n):\n",
    "    for i in range(5):\n",
    "        c = comp(c, i, i+1, i+6)\n",
    "    c = comp(c, 0, 3, 11)\n",
    "    c = comp(c, 2, 5, 12)\n",
    "    c.multicontrol(*range(6, 14), unitary = tc.gates.z(), ctrl=[1 for _ in range(6, 13)])\n",
    "    for i in range(5):\n",
    "        c = comp(c, i, i+1, i+6)\n",
    "    c = comp(c, 0, 3, 11)\n",
    "    c = comp(c, 2, 5, 12)\n",
    "\n",
    "def reflection(c, n):\n",
    "    for i in range(n):\n",
    "        c.H(i)\n",
    "        c.X(i)\n",
    "    c.multicontrol(*range(n), unitary = tc.gates.z(), ctrl=[1 for _ in range(n - 1)])\n",
    "    for i in range(n):\n",
    "        c.X(i)\n",
    "        c.H(i)\n",
    "    return c\n",
    "\n",
    "n = 6\n",
    "m = 2\n",
    "tot_qubit = 14\n",
    "theta = math.asin(1.0/(4*math.sqrt(2)))\n",
    "r = round((math.pi / (2 * theta) - 1) / 2)\n",
    "c = tc.Circuit(tot_qubit)\n",
    "\n",
    "for i in range(6):\n",
    "    c.H(i)\n",
    "for i in range(6, tot_qubit):\n",
    "    c.X(i)\n",
    "for j in range(r):\n",
    "    c = oracle(c, n)\n",
    "    c = reflection(c, n)\n",
    "c.draw(output=\"mpl\")"
   ]
  },
  {
   "cell_type": "code",
   "execution_count": null,
   "id": "5d56b4e9",
   "metadata": {},
   "outputs": [],
   "source": []
  }
 ],
 "metadata": {
  "kernelspec": {
   "display_name": "Python 3 (ipykernel)",
   "language": "python",
   "name": "python3"
  },
  "language_info": {
   "codemirror_mode": {
    "name": "ipython",
    "version": 3
   },
   "file_extension": ".py",
   "mimetype": "text/x-python",
   "name": "python",
   "nbconvert_exporter": "python",
   "pygments_lexer": "ipython3",
   "version": "3.8.13"
  }
 },
 "nbformat": 4,
 "nbformat_minor": 5
}
