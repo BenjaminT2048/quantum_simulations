{
 "cells": [
  {
   "cell_type": "code",
   "execution_count": 1,
   "id": "85d57adf",
   "metadata": {},
   "outputs": [],
   "source": [
    "import tensorcircuit as tc\n",
    "import tensorflow as tf\n",
    "import math\n",
    "import numpy as np\n",
    "import itertools\n",
    "from matplotlib import pyplot as plt\n",
    "import tensorcircuit as tc\n",
    "K = tc.set_backend(\"tensorflow\")"
   ]
  },
  {
   "cell_type": "code",
   "execution_count": 2,
   "id": "854b8304",
   "metadata": {},
   "outputs": [],
   "source": [
    "X = tc.gates._x_matrix  # same as tc.gates.xgate().tensor.numpy()\n",
    "Y = tc.gates._y_matrix  # same as tc.gates.ygate().tensor.numpy()\n",
    "Z = tc.gates._z_matrix  # same as tc.gates.zgate().tensor.numpy()\n",
    "H = tc.gates._h_matrix  # same as tc.gates.hgate().tensor.numpy()\n",
    "S = tc.gates._s_matrix\n",
    "T = tc.gates._t_matrix\n",
    "L=3\n",
    "R=3\n",
    "LL=np.arange(L*(R-1)+1)\n",
    "for i in range(L):\n",
    "        for j in range(R-1):\n",
    "            LL[i*(R-1)+j]=i*R+j\n",
    "LL[L*(R-1)]=L*R\n",
    "LL_new=np.delete(LL,[-1])\n",
    "LLL=np.arange((L-1)*R+2)\n",
    "LLL[(L-1)*R]=R*L\n",
    "LLL[(L-1)*R+1]=R*L+1\n",
    "LLL_new=np.delete(LLL,[-1])\n",
    "\n",
    "c=tc.Circuit(R*L+2)\n",
    "c.X(-1)\n",
    "c.H(-1)\n",
    "for i in range(R*L):\n",
    "    c.H(i)\n",
    "\n",
    "def oracle(c):\n",
    "    for i in range(L):\n",
    "        for j in range(R-1):\n",
    "            c.CNOT(i*R+j+1,i*R+j)\n",
    "    c.multicontrol(*LL,ctrl=[1 for _ in LL_new],unitary=X)\n",
    "    for i in range(L):\n",
    "        for j in range(R-1):\n",
    "            c.CNOT((L-1-i)*R+(R-2-j)+1,(L-1-i)*R+(R-2-j))\n",
    "    for i in range(L-1):\n",
    "        for j in range(R):\n",
    "            c.CNOT((i+1)*R+j,i*R+j)\n",
    "    c.multicontrol(*LLL,ctrl=[1 for _ in LLL_new],unitary=X)\n",
    "    for i in range(L-1):\n",
    "        for j in range(R):\n",
    "            c.CNOT((L-1-i)*R+(R-1-j),(L-2-i)*R+(R-1-j))\n",
    "    for i in range(L):\n",
    "        for j in range(R-1):\n",
    "            c.CNOT(i*R+j+1,i*R+j)\n",
    "    c.multicontrol(*LL,ctrl=[1 for _ in LL_new],unitary=X)\n",
    "    for i in range(L):\n",
    "        for j in range(R-1):\n",
    "            c.CNOT((L-1-i)*R+(R-2-j)+1,(L-1-i)*R+(R-2-j))\n",
    "    return c\n",
    "\n",
    "def reflect(c):\n",
    "    for i in range(R*L):\n",
    "        c.H(i)\n",
    "        c.X(i)\n",
    "    c.multicontrol(*range(R*L),ctrl=[1 for _ in range(R*L-1)],unitary=Z)\n",
    "    for i in range(R*L):\n",
    "        c.X(i)\n",
    "        c.H(i)\n",
    "    return c"
   ]
  },
  {
   "cell_type": "code",
   "execution_count": 3,
   "id": "ba0d9349",
   "metadata": {},
   "outputs": [
    {
     "name": "stdout",
     "output_type": "stream",
     "text": [
      "(<tf.Tensor: shape=(11,), dtype=float32, numpy=array([1., 0., 1., 0., 1., 0., 1., 0., 1., 0., 0.], dtype=float32)>, <tf.Tensor: shape=(), dtype=float32, numpy=0.49997228>)\n"
     ]
    }
   ],
   "source": [
    "theta = math.asin(1.0/(math.sqrt(2**(R*L-1))))\n",
    "r = round(((math.pi-theta) / (2 * theta)) / 2)\n",
    "\n",
    "for _ in range(r):\n",
    "    c = oracle(c)\n",
    "    c = reflect(c)\n",
    "\n",
    "c.H(-1)\n",
    "c.X(-1)\n",
    "print(c.sample())"
   ]
  },
  {
   "cell_type": "code",
   "execution_count": null,
   "id": "880d8ce6",
   "metadata": {},
   "outputs": [],
   "source": [
    "import cotengra\n",
    "opt = cotengra.ReusableHyperOptimizer(\n",
    "    methods=[\"greedy\", \"kahypar\"],\n",
    "    parallel=\"ray\",\n",
    "    minimize=\"combo\",\n",
    "    max_time=12,\n",
    "    max_repeats=4096,\n",
    "    progbar=True,\n",
    ")\n",
    "tc.set_contractor(\"custom\", optimizer=opt, contraction_info=True, preprocessing=True)"
   ]
  }
 ],
 "metadata": {
  "kernelspec": {
   "display_name": "Python 3 (ipykernel)",
   "language": "python",
   "name": "python3"
  },
  "language_info": {
   "codemirror_mode": {
    "name": "ipython",
    "version": 3
   },
   "file_extension": ".py",
   "mimetype": "text/x-python",
   "name": "python",
   "nbconvert_exporter": "python",
   "pygments_lexer": "ipython3",
   "version": "3.10.5"
  }
 },
 "nbformat": 4,
 "nbformat_minor": 5
}
