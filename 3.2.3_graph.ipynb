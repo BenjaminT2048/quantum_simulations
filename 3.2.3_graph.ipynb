{
 "cells": [
  {
   "cell_type": "code",
   "execution_count": 104,
   "id": "412cda25",
   "metadata": {},
   "outputs": [],
   "source": [
    "import tensorcircuit as tc\n",
    "import tensorflow as ts \n",
    "import numpy as np\n",
    "import math\n",
    "from numpy import linalg as LA\n",
    "from matplotlib import pyplot as plt\n",
    "K = tc.set_backend(\"tensorflow\")\n",
    "\n",
    "sim_t = 10*math.pi\n",
    "interval = 100\n",
    "dt = sim_t / interval\n",
    "cur_t = 0 \n",
    "h_m = 0.5\n",
    "\n",
    "qubit = 5\n",
    "min_w = 999\n",
    "w=0\n",
    "v=0\n",
    "I = tc.gates._i_matrix\n",
    "X = tc.gates._x_matrix  \n",
    "Y = tc.gates._y_matrix  \n",
    "Z = tc.gates._z_matrix\n",
    "\n",
    "zt=[0 for i in range(10000)]\n",
    "zp=[0 for i in range(10000)]\n",
    "time=[0 for i in range(10000)]"
   ]
  },
  {
   "cell_type": "code",
   "execution_count": 105,
   "id": "256ea8a4",
   "metadata": {},
   "outputs": [],
   "source": [
    "def i_iterate_multiplication(u):\n",
    "    tmp = 1\n",
    "    for i in range(u):\n",
    "        tmp = np.kron(I, tmp)\n",
    "    return tmp\n",
    "\n",
    "def zzi(i):\n",
    "     return np.kron(np.kron(i_iterate_multiplication(i), np.kron(Z, Z)), i_iterate_multiplication(qubit-2-i))\n",
    "    \n",
    "def xi(i):\n",
    "    return np.kron(np.kron(i_iterate_multiplication(i), X), i_iterate_multiplication(qubit-1-i))\n",
    "\n",
    "h_Z = 0\n",
    "h_X = 0\n",
    "for i in range(qubit-1):\n",
    "    h_Z = h_Z - zzi(i)\n",
    "for i in range(qubit):\n",
    "    h_X = h_X + h_m * xi(i)\n",
    "def evolution(h, t):\n",
    "    return tc.gates.exponential_gate(h, t)"
   ]
  },
  {
   "cell_type": "code",
   "execution_count": 106,
   "id": "61cda94f",
   "metadata": {},
   "outputs": [],
   "source": [
    "#w, v = LA.eig(H)\n",
    "#for i in range(0, len(w)):\n",
    "#        if w[i] < min_w:\n",
    "#            min_w = w[i]\n",
    "\n",
    "c_precise=tc.Circuit(qubit)\n",
    "c_trotter=tc.Circuit(qubit)\n",
    "cnt=0;\n",
    "\n",
    "for _interval in range(interval):\n",
    "    c_trotter.any(*range(qubit), unitary=evolution(h_X, dt))\n",
    "    c_trotter.any(*range(qubit), unitary=evolution(h_Z, dt))\n",
    "    cur_t += dt\n",
    "    c_precise.any(*range(qubit), unitary=evolution(h_X+h_Z, dt))\n",
    "    for j in range(qubit):\n",
    "        zt[cnt]+=c_trotter.expectation([tc.gates.z(), [j]])\n",
    "    for j in range(qubit):\n",
    "        zp[cnt]+=c_precise.expectation([tc.gates.z(), [j]])\n",
    "    time[cnt]=cur_t\n",
    "    cnt+=1"
   ]
  },
  {
   "cell_type": "code",
   "execution_count": 107,
   "id": "23ab9f0a",
   "metadata": {},
   "outputs": [
    {
     "data": {
      "image/png": "[encoded data removed]",
      "text/plain": [
       "<Figure size 432x288 with 1 Axes>"
      ]
     },
     "metadata": {
      "needs_background": "light"
     },
     "output_type": "display_data"
    }
   ],
   "source": [
    "plt.plot([time[i] for i in range(interval)], [zt[i] for i in range(interval)])\n",
    "plt.plot([time[i] for i in range(interval)], [zp[i] for i in range(interval)])\n",
    "plt.show()\n"
   ]
  },
  {
   "cell_type": "code",
   "execution_count": null,
   "id": "2513f3dc",
   "metadata": {},
   "outputs": [],
   "source": []
  }
 ],
 "metadata": {
  "kernelspec": {
   "display_name": "Python 3 (ipykernel)",
   "language": "python",
   "name": "python3"
  },
  "language_info": {
   "codemirror_mode": {
    "name": "ipython",
    "version": 3
   },
   "file_extension": ".py",
   "mimetype": "text/x-python",
   "name": "python",
   "nbconvert_exporter": "python",
   "pygments_lexer": "ipython3",
   "version": "3.8.13"
  }
 },
 "nbformat": 4,
 "nbformat_minor": 5
}
