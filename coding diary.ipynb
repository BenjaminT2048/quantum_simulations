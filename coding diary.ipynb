{
 "cells": [
  {
   "cell_type": "markdown",
   "id": "97474952",
   "metadata": {},
   "source": [
    "#  通用题目"
   ]
  },
  {
   "cell_type": "markdown",
   "id": "f22839f2",
   "metadata": {},
   "source": [
    "## 1.1 环境配置"
   ]
  },
  {
   "cell_type": "code",
   "execution_count": 1,
   "id": "6e1e25d8",
   "metadata": {},
   "outputs": [
    {
     "name": "stderr",
     "output_type": "stream",
     "text": [
      "2022-07-26 18:23:11.981087: W tensorflow/stream_executor/platform/default/dso_loader.cc:64] Could not load dynamic library 'libcudart.so.11.0'; dlerror: libcudart.so.11.0: cannot open shared object file: No such file or directory\n",
      "2022-07-26 18:23:11.981104: I tensorflow/stream_executor/cuda/cudart_stub.cc:29] Ignore above cudart dlerror if you do not have a GPU set up on your machine.\n",
      "2022-07-26 18:23:13.460975: W tensorflow/stream_executor/platform/default/dso_loader.cc:64] Could not load dynamic library 'libcuda.so.1'; dlerror: libcuda.so.1: cannot open shared object file: No such file or directory\n",
      "2022-07-26 18:23:13.460992: W tensorflow/stream_executor/cuda/cuda_driver.cc:269] failed call to cuInit: UNKNOWN ERROR (303)\n",
      "2022-07-26 18:23:13.461002: I tensorflow/stream_executor/cuda/cuda_diagnostics.cc:156] kernel driver does not appear to be running on this host (imasonliu-LC4): /proc/driver/nvidia/version does not exist\n",
      "2022-07-26 18:23:13.461158: I tensorflow/core/platform/cpu_feature_guard.cc:193] This TensorFlow binary is optimized with oneAPI Deep Neural Network Library (oneDNN) to use the following CPU instructions in performance-critical operations:  AVX2 FMA\n",
      "To enable them in other operations, rebuild TensorFlow with the appropriate compiler flags.\n"
     ]
    },
    {
     "data": {
      "image/png": "[encoded data removed]",
      "text/plain": [
       "<Figure size 432x288 with 1 Axes>"
      ]
     },
     "metadata": {
      "needs_background": "light"
     },
     "output_type": "display_data"
    }
   ],
   "source": [
    "from matplotlib import pyplot as plt\n",
    "import numpy as np\n",
    "import tensorcircuit as tc\n",
    "\n",
    "K = tc.set_backend(\"tensorflow\")\n",
    "\n",
    "\n",
    "@K.jit\n",
    "def exp_z(param):\n",
    "    c = tc.Circuit(1)\n",
    "    c.rx(0, theta=param)\n",
    "    return K.real(c.expectation_ps(z=[0]))\n",
    "\n",
    "\n",
    "grad_z = K.grad(exp_z)\n",
    "\n",
    "params = K.convert_to_tensor(np.arange(0, 2 * np.pi, 0.01))\n",
    "\n",
    "plt.plot(params, [exp_z(param) for param in params], label=r\"$\\langle Z\\rangle$\")\n",
    "plt.plot(\n",
    "    params,\n",
    "    [grad_z(param) for param in params],\n",
    "    label=r\"$\\frac{\\partial \\langle Z\\rangle}{\\partial \\theta}$\",\n",
    ")\n",
    "plt.legend()\n",
    "plt.xlabel(r\"$\\theta$\")\n",
    "plt.show()"
   ]
  },
  {
   "cell_type": "markdown",
   "id": "ea33f5f8",
   "metadata": {},
   "source": [
    "## 1.2向量和矩阵"
   ]
  },
  {
   "cell_type": "markdown",
   "id": "bccff617",
   "metadata": {},
   "source": [
    "### 1.2.1矩阵旋转"
   ]
  },
  {
   "cell_type": "code",
   "execution_count": 3,
   "id": "0013f6d6",
   "metadata": {},
   "outputs": [
    {
     "data": {
      "text/plain": [
       "array([ 0.54030231, -0.84147098])"
      ]
     },
     "execution_count": 3,
     "metadata": {},
     "output_type": "execute_result"
    }
   ],
   "source": [
    "import math\n",
    "import numpy as np \n",
    "\n",
    "theta = 1\n",
    "A = np.array([[math.cos(theta), math.sin(theta)], [-math.sin(theta), math.cos(theta)]])\n",
    "\n",
    "B = np.array([1, 0])\n",
    "\n",
    "np.matmul(A, B)"
   ]
  },
  {
   "cell_type": "markdown",
   "id": "71096d26",
   "metadata": {},
   "source": [
    "已知：$$\\boldsymbol{v} = (1,0)$$\n",
    "$$\\begin{pmatrix}\\cos\\theta&\\sin\\theta\\\\-\\sin\\theta&\\cos\\theta\\end{pmatrix} \\cdot \\boldsymbol{v} = (\\cos\\theta,\\sin\\theta)$$\n",
    "由直角坐标系下的几何意义可知，该向量变化即为将$$\\boldsymbol{v} = (1,0)逆时针旋转\\theta$$"
   ]
  },
  {
   "cell_type": "markdown",
   "id": "ed078ad9",
   "metadata": {},
   "source": [
    "### 1.2.2矩阵指数"
   ]
  },
  {
   "cell_type": "code",
   "execution_count": 14,
   "id": "6915d192",
   "metadata": {},
   "outputs": [
    {
     "name": "stdout",
     "output_type": "stream",
     "text": [
      "tf.Tensor(\n",
      "[[0.54030231+0.j         0.        +0.84147098j]\n",
      " [0.        +0.84147098j 0.54030231+0.j        ]], shape=(2, 2), dtype=complex128)\n",
      "tf.Tensor(\n",
      "[[ 0.00000000e+00+0.j  0.00000000e+00+0.j]\n",
      " [ 0.00000000e+00+0.j -1.11022302e-16+0.j]], shape=(2, 2), dtype=complex128)\n"
     ]
    }
   ],
   "source": [
    "import tensorcircuit as tc\n",
    "import tensorflow as tf\n",
    "import math\n",
    "import numpy as np\n",
    "\n",
    "K = tc.set_backend(\"tensorflow\")\n",
    "\n",
    "X = tc.gates._x_matrix  \n",
    "Y = tc.gates._y_matrix  \n",
    "Z = tc.gates._z_matrix\n",
    "I = np.array([[1, 0],[0,1]])\n",
    "\n",
    "P = X*1j\n",
    "a = K.expm(P)\n",
    "print(a)\n",
    "\n",
    "theta = 1\n",
    "b = K.expm(P*theta)\n",
    "c = I*math.cos(theta) + P*math.sin(theta)\n",
    "d = b-c\n",
    "print(d)"
   ]
  },
  {
   "cell_type": "markdown",
   "id": "84dcd4de",
   "metadata": {},
   "source": [
    "由泰勒级数展开得：$$e^{i\\theta \\hat{P}} = 1+\\frac{(i\\theta \\hat{P})}{1!}+\\frac{(i\\theta \\hat{P})^2}{2!}+\\cdots + \\frac{(i\\theta \\hat{P})^n}{n!}$$\n",
    "$$= 1+(\\frac{-(\\theta\\hat{P})^2}{2!}+\\frac{(\\theta \\hat{P})^4}{4!}+\\cdots )+(\\frac{(i\\theta \\hat{P})}{1!}-\\frac{i(\\theta \\hat{P})^3}{3!}+\\cdots )$$\n",
    "$$= I\\cdot [(1-\\frac{(\\theta)^2}{2!}+\\frac{(\\theta)^4}{4!}+\\cdots )+i\\cdot( \\frac{(\\theta)}{1!}-\\frac{(\\theta )^3}{3!}+\\cdots )$$\n",
    "$$= I\\cos\\theta+i\\sin\\theta\\hat{P}$$\n",
    "\n",
    "当且仅当两种计算方式结果相近时，该公式成立，如程序中d = b-c$\\approx$0。 \n",
    "对$\\hat{P}$的形式限制为$\\hat{P}^2=1$（该性质在推导中被使用）。"
   ]
  },
  {
   "cell_type": "markdown",
   "id": "74b4c6ac",
   "metadata": {},
   "source": [
    "### 1.2.3矩阵关于向量的期望"
   ]
  },
  {
   "cell_type": "markdown",
   "id": "77d08869",
   "metadata": {},
   "source": [
    "具有周期性"
   ]
  },
  {
   "cell_type": "code",
   "execution_count": 2,
   "id": "1d9095a0",
   "metadata": {
    "scrolled": true
   },
   "outputs": [
    {
     "name": "stdout",
     "output_type": "stream",
     "text": [
      "1 2\n"
     ]
    },
    {
     "data": {
      "image/png": "[encoded data removed]",
      "text/plain": [
       "<Figure size 432x288 with 1 Axes>"
      ]
     },
     "metadata": {
      "needs_background": "light"
     },
     "output_type": "display_data"
    }
   ],
   "source": [
    "import tensorcircuit as tc\n",
    "import tensorflow as tf\n",
    "import math\n",
    "import numpy as np\n",
    "from matplotlib import pyplot as plt\n",
    "\n",
    "K = tc.set_backend(\"tensorflow\")\n",
    "\n",
    "i, j = map(int, input().split())\n",
    "X = tc.gates._x_matrix  \n",
    "Y = tc.gates._y_matrix  \n",
    "Z = tc.gates._z_matrix\n",
    "I = np.array([[1, 0],[0, 1]])\n",
    "\n",
    "def func(theta):\n",
    "    if i==0:\n",
    "        P = X*1j\n",
    "    if i==1:\n",
    "        P = Y*1j\n",
    "    if i==2:\n",
    "        P = Z*1j\n",
    "    if i==3:\n",
    "        P = I*1j\n",
    "\n",
    "    if j==0:\n",
    "        Q = X\n",
    "    if j==1:\n",
    "        Q = Y\n",
    "    if j==2:\n",
    "        Q = Z\n",
    "    if j==3:\n",
    "        Q = I\n",
    "    v_0 = np.array([[1, 0]])\n",
    "    v = v_0 @ K.expm((P*theta)/2)\n",
    "    A = K.transpose(K.conj(v))\n",
    "    E = v @ Q @ A\n",
    "    return E[0,0]\n",
    "\n",
    "theta_list = np.arange(0, 8 * np.pi, 0.01)\n",
    "plt.plot(theta_list, [func(theta) for theta in theta_list])\n",
    "plt.show()"
   ]
  },
  {
   "cell_type": "markdown",
   "id": "7b432512",
   "metadata": {},
   "source": [
    "### 1.2.4张量积"
   ]
  },
  {
   "cell_type": "code",
   "execution_count": 24,
   "id": "04f99651",
   "metadata": {},
   "outputs": [
    {
     "name": "stdout",
     "output_type": "stream",
     "text": [
      "[[ 3.  0.  0.  0.  0.  0.  0.  0.]\n",
      " [ 0.  1.  0.  0.  0.  0.  0.  0.]\n",
      " [ 0.  0.  1.  0.  0.  0.  0.  0.]\n",
      " [ 0.  0.  0. -1.  0.  0.  0.  0.]\n",
      " [ 0.  0.  0.  0.  1.  0.  0.  0.]\n",
      " [ 0.  0.  0.  0.  0. -1.  0.  0.]\n",
      " [ 0.  0.  0.  0.  0.  0. -1.  0.]\n",
      " [ 0.  0.  0.  0.  0.  0.  0. -3.]]\n",
      "3.0\n"
     ]
    }
   ],
   "source": [
    "import tensorcircuit as tc\n",
    "import tensorflow as tf\n",
    "import math\n",
    "import numpy as np\n",
    "from matplotlib import pyplot as plt\n",
    "\n",
    "n = 3\n",
    "X = tc.gates._x_matrix \n",
    "Z = tc.gates._z_matrix\n",
    "H = np.zeros((2**n,2**n))\n",
    "for i in range(n):\n",
    "    H +=np.kron(np.kron(np.identity(2**i),Z),np.identity(2**(n-i-1)))\n",
    "for i in range(n-1):\n",
    "    H +=np.kron(np.kron(np.identity(2**i),X),np.identity(2**(n-i-1)))*np.kron(np.kron(np.identity(2**(i+1)),X),np.identity(2**(n-i-2)))\n",
    "\n",
    "print(H)\n",
    "print(H[0,0])"
   ]
  },
  {
   "cell_type": "markdown",
   "id": "26456b70",
   "metadata": {},
   "source": [
    "### 1.2.5狄拉克符号"
   ]
  },
  {
   "cell_type": "code",
   "execution_count": 6,
   "id": "950d476e",
   "metadata": {},
   "outputs": [
    {
     "name": "stdout",
     "output_type": "stream",
     "text": [
      "[[ 0.          0.          0.70710678  0.          0.         -0.70710678\n",
      "   0.          0.        ]]\n"
     ]
    }
   ],
   "source": [
    "import math\n",
    "import numpy as np\n",
    "\n",
    "a = np.array([[0,\n",
    "               0,\n",
    "              1,\n",
    "              0,\n",
    "              0,\n",
    "              0,\n",
    "              0,\n",
    "              0]])\n",
    "b = np.array([[0,\n",
    "               0,\n",
    "              0,\n",
    "              0,\n",
    "              0,\n",
    "              1,\n",
    "              0,\n",
    "              0]])\n",
    "c = (a-b)/math.sqrt(2)\n",
    "print(c)"
   ]
  },
  {
   "cell_type": "markdown",
   "id": "9aabe5c5",
   "metadata": {},
   "source": [
    "## 1.3导数与梯度下降"
   ]
  },
  {
   "cell_type": "markdown",
   "id": "fd0406aa",
   "metadata": {},
   "source": [
    "### 1.3.1数值微分"
   ]
  },
  {
   "cell_type": "code",
   "execution_count": 5,
   "id": "fc4f282b",
   "metadata": {},
   "outputs": [
    {
     "name": "stdout",
     "output_type": "stream",
     "text": [
      "1e-05\n",
      "2.00001000001393\n",
      "4.000010000027032\n",
      "6.000009999951316\n",
      "8.00000999952033\n"
     ]
    }
   ],
   "source": [
    "import tensorcircuit as tc\n",
    "import tensorflow as tf\n",
    "import math\n",
    "import numpy as np\n",
    "from matplotlib import pyplot as plt\n",
    "\n",
    "def f(x):\n",
    "    return x**2\n",
    "\n",
    "y=0.00001\n",
    "for x in range(5):\n",
    "    a = (f(x+y)-f(x))/y\n",
    "    print(a)"
   ]
  },
  {
   "cell_type": "markdown",
   "id": "1773b28e",
   "metadata": {},
   "source": [
    "### 1.3.2三角函数数值微分"
   ]
  },
  {
   "cell_type": "markdown",
   "id": "2a356bfa",
   "metadata": {},
   "source": [
    "$$f(x)=A\\sin(x+B)+C$$\n",
    "$$则f'(x)=A\\cos(x+B)$$\n",
    "$$f'(x)=\\frac {f(x+\\delta )-f(x- \\delta )}{\\tau}=\\frac {A[sin(x+B+\\delta )-sin(x+B- \\delta )]}{\\tau}$$\n",
    "$$=\\frac {2A\\cos(x+B)sin\\delta}{\\tau}$$\n",
    "$$发现当\\tau=2\\sin\\delta时，存在严格的数值差分和解析导数相同$$"
   ]
  },
  {
   "cell_type": "markdown",
   "id": "3c2ed0f6",
   "metadata": {},
   "source": [
    "### 1.3.3单比特参数平移"
   ]
  },
  {
   "cell_type": "markdown",
   "id": "3b7ebcab",
   "metadata": {},
   "source": [
    "已知：$\\hat{P_1},\\hat{P_2},\\hat{P_3}分别为X，Y，Z三个泡利矩阵$\n",
    "$$e^{-i\\frac{\\theta}{2}\\hat{P_1}}=\\cos(-\\frac{\\theta}{2})I+i\\sin(-\\frac{\\theta}{2})\\hat{P_1}$$\n",
    "$$e^{i\\frac{\\theta}{2}\\hat{P_1}}=\\cos(\\frac{\\theta}{2})I+i\\sin(\\frac{\\theta}{2})\\hat{P_1}$$\n",
    "故：$$e^{-i\\frac{\\theta}{2}\\hat{P_1}}\\hat{P_2}e^{i\\frac{\\theta}{2}\\hat{P_1}}=[\\cos(-\\frac{\\theta}{2})I+i\\sin(-\\frac{\\theta}{2})\\hat{P_1}]\\hat{P_2}[\\cos(\\frac{\\theta}{2})I+i\\sin(\\frac{\\theta}{2})\\hat{P_1}]$$\n",
    "化简得：$$\\cos(\\theta)\\hat{P_2}\\pm\\sin(\\theta)\\hat{P_3}$$\n",
    "易知$f(\\theta)$为三角函数形式，具有周期性。由1.3.2，有该函数参数平移法给出导数正确。"
   ]
  },
  {
   "cell_type": "code",
   "execution_count": 27,
   "id": "66cd41c2",
   "metadata": {},
   "outputs": [
    {
     "name": "stdout",
     "output_type": "stream",
     "text": [
      "(0.9999999999958332+0j)\n",
      "(0.8775813633232764+0j)\n",
      "(0.5403002022008606+0j)\n",
      "(0.0707347079353937+0j)\n",
      "(-0.41614910977205705+0j)\n",
      "(-0.8011451116951561+0j)\n",
      "(-0.9899928493595221+0j)\n",
      "(-0.9364558102964436+0j)\n",
      "(-0.6536417288316442+0j)\n",
      "(-0.2107933556150243+0j)\n",
      "(0.28366458275641543+0j)\n",
      "(0.7086715381188212+0j)\n",
      "(0.9601709851425609+0j)\n",
      "(0.9765870878863935+0j)\n",
      "(0.7539006118495449+0j)\n",
      "(0.34663297281412037+0j)\n",
      "(-0.14550250719835842+0j)\n",
      "(-0.6020138988649392+0j)\n",
      "(-0.9111312921472602+0j)\n",
      "(-0.9971719682783097+0j)\n",
      "(-0.8390701689897638+0j)\n",
      "(-0.4755347287499489+0j)\n",
      "(0.004428197963868285+0j)\n",
      "(0.48330694735199126+0j)\n",
      "(0.8438553001255399+0j)\n",
      "(0.9977984449405229+0j)\n",
      "(0.9074457309909966+0j)\n",
      "(0.5949186538067862+0j)\n",
      "(0.13673474168474084+0j)\n",
      "(-0.35492660399594195+0j)\n"
     ]
    },
    {
     "data": {
      "image/png": "[encoded data removed]",
      "text/plain": [
       "<Figure size 432x288 with 1 Axes>"
      ]
     },
     "metadata": {
      "needs_background": "light"
     },
     "output_type": "display_data"
    }
   ],
   "source": [
    "import tensorcircuit as tc\n",
    "import tensorflow as tf\n",
    "import math\n",
    "import numpy as np\n",
    "from matplotlib import pyplot as plt\n",
    "\n",
    "X = tc.gates._x_matrix  \n",
    "Y = tc.gates._y_matrix  \n",
    "Z = tc.gates._z_matrix\n",
    "\n",
    "P_1 = X\n",
    "P_2 = Y\n",
    "\n",
    "def f(theta):\n",
    "    C = np.exp(-1j*theta*P_1/2)\n",
    "    D = np.exp(1j*theta*P_1/2)\n",
    "    g = C @ P_2 @ D\n",
    "    return g[0][0]\n",
    "\n",
    "y=0.00001\n",
    "for x in range(30):\n",
    "    a = (f(x+y)-f(x))/y\n",
    "    print(a)\n",
    "    \n",
    "theta_list = np.arange(0, 20* np.pi, 0.01)\n",
    "plt.plot(theta_list, [f(theta) for theta in theta_list])\n",
    "plt.show()"
   ]
  },
  {
   "cell_type": "markdown",
   "id": "fd2376e1",
   "metadata": {},
   "source": [
    "### 1.3.4梯度下降"
   ]
  },
  {
   "cell_type": "markdown",
   "id": "8fe01eda",
   "metadata": {},
   "source": [
    "运用while循环及导数极值点定义，得出极小（最小）值-1"
   ]
  },
  {
   "cell_type": "code",
   "execution_count": 29,
   "id": "1c305e2e",
   "metadata": {},
   "outputs": [
    {
     "name": "stdout",
     "output_type": "stream",
     "text": [
      "(-0.7738906815578891+0j)\n",
      "(-0.9636113403971079+0j)\n",
      "(-0.9999182117651416+0j)\n",
      "(-0.999992794404976+0j)\n",
      "(-0.9999993748588182+0j)\n",
      "(-0.9999999428951395+0j)\n",
      "(-0.9999999956297544+0j)\n",
      "(-0.9999999994102639+0j)\n",
      "(-0.9999999999937579+0j)\n",
      "(-0.9999999999989421+0j)\n",
      "(-0.9999999999999998+0j)\n",
      "(-1+0j)\n",
      "(-1+0j)\n",
      "(-1+0j)\n",
      "(-1+0j)\n"
     ]
    }
   ],
   "source": [
    "import numpy as np\n",
    "from scipy.linalg import expm, sinm, cosm\n",
    "x=1\n",
    "z=0.000001\n",
    "def  f(u):\n",
    "    t=np.cos(u)*p2+1j*np.sin(u)*p3\n",
    "    return 1j*t[0][0]\n",
    "def grad(u):\n",
    "    return ((f(u+z)-f(u-z))/(2*z))\n",
    "def find(now):\n",
    "    u=0.000000001\n",
    "    if grad(now)*grad(now+u)<0: return 0\n",
    "    if grad(now)<0 :\n",
    "        while grad(now+u)<0: \n",
    "            u=u*1.5\n",
    "        now=now+u\n",
    "    else:\n",
    "        while grad(now-u)>0:\n",
    "            u=u*1.5\n",
    "        now=now-u\n",
    "    print(f(now))\n",
    "    find(now)\n",
    "    \n",
    "p1=np.array([[0,1],[1,0]])\n",
    "p2=np.array([[0,-1j],[1j,0]])\n",
    "p3=np.array([[1,0],[0,1]])\n",
    "\n",
    "now=70;\n",
    "print(f(now))\n",
    "find(now)"
   ]
  },
  {
   "cell_type": "markdown",
   "id": "2433508b",
   "metadata": {},
   "source": [
    "### 1.3.5回到线路"
   ]
  },
  {
   "cell_type": "markdown",
   "id": "08225a17",
   "metadata": {},
   "source": [
    "结合1.1中作图示例与预习文档第五章变分量子算法1.4 ，利用value_and_grad&optimizer函数，完成梯度下降。"
   ]
  },
  {
   "cell_type": "code",
   "execution_count": 32,
   "id": "dd97c9bf",
   "metadata": {},
   "outputs": [
    {
     "data": {
      "text/plain": [
       "(<tf.Tensor: shape=(), dtype=complex64, numpy=(-4.371139e-08+0j)>,\n",
       " <tf.Tensor: shape=(), dtype=float32, numpy=-0.5>)"
      ]
     },
     "execution_count": 32,
     "metadata": {},
     "output_type": "execute_result"
    }
   ],
   "source": [
    "import numpy as np\n",
    "import tensorcircuit as tc\n",
    "import math\n",
    "\n",
    "theta = math.pi / 2\n",
    "K = tc.set_backend(\"tensorflow\")\n",
    "\n",
    "def f(theta):\n",
    "    c = tc.Circuit(1)\n",
    "    rx = tc.gates.rx_gate(theta)\n",
    "    ry = tc.gates.ry_gate(theta)\n",
    "    rz = tc.gates.rz_gate(theta)\n",
    "    return c.expectation([rx,[0]])\n",
    "\n",
    "vgf = K.value_and_grad(f)\n",
    "theta = tc.backend.convert_to_tensor(math.pi)\n",
    "vgf(theta)"
   ]
  },
  {
   "cell_type": "code",
   "execution_count": 34,
   "id": "238a3df2",
   "metadata": {},
   "outputs": [
    {
     "data": {
      "text/plain": [
       "Text(0.5, 0, 'training step')"
      ]
     },
     "execution_count": 34,
     "metadata": {},
     "output_type": "execute_result"
    },
    {
     "data": {
      "image/png": "[encoded data removed]",
      "text/plain": [
       "<Figure size 432x288 with 1 Axes>"
      ]
     },
     "metadata": {
      "needs_background": "light"
     },
     "output_type": "display_data"
    }
   ],
   "source": [
    "import tensorflow as tw\n",
    "theta = tc.backend.convert_to_tensor(0.9)\n",
    "\n",
    "history = []\n",
    "opt = K.optimizer(tf.keras.optimizers.Adam(1e-2))\n",
    "\n",
    "for _ in range(500):\n",
    "    v, g = vgf(theta)\n",
    "    theta = opt.update(g, theta)  \n",
    "    history.append(v)\n",
    "\n",
    "plt.plot([i for i in range(500)], history)\n",
    "plt.ylabel(\"hostory\")\n",
    "plt.xlabel(\"training step\")"
   ]
  },
  {
   "cell_type": "markdown",
   "id": "0df36a65",
   "metadata": {},
   "source": [
    "## 1.4量子线路"
   ]
  },
  {
   "cell_type": "markdown",
   "id": "af9a4d58",
   "metadata": {},
   "source": [
    "### 1.4.1态生成"
   ]
  },
  {
   "cell_type": "markdown",
   "id": "f16475a9",
   "metadata": {},
   "source": [
    "01目标为：$$|00……\\rangle\\rightarrow|00……\\rangle+|11……\\rangle$$\n",
    "$$|00……\\rangle\\stackrel{H}{\\longrightarrow}(|0 \\rangle+|1 \\rangle)|00……\\rangle \\stackrel{CNOT_{01}}{\\longrightarrow} (|00\\rangle+|11\\rangle)|00……\\rangle\\stackrel{CNOT_{0n}}{\\longrightarrow}|00……\\rangle+|11……\\rangle$$"
   ]
  },
  {
   "cell_type": "code",
   "execution_count": 19,
   "id": "daef82bb",
   "metadata": {},
   "outputs": [
    {
     "data": {
      "image/png": "[encoded data removed]",
      "text/plain": [
       "<Figure size 387.597x325.08 with 1 Axes>"
      ]
     },
     "execution_count": 19,
     "metadata": {},
     "output_type": "execute_result"
    }
   ],
   "source": [
    "from functools import partial\n",
    "import inspect\n",
    "import sys\n",
    "import numpy as np\n",
    "import tensorflow as tf\n",
    "\n",
    "import tensorcircuit as tc\n",
    "\n",
    "def get_circuit(n):\n",
    "    c = tc.Circuit(n) \n",
    "    c.H(0) \n",
    "    for i in range(n-1):\n",
    "        c.cnot(0,i+1)    \n",
    "    return c\n",
    "\n",
    "c1 = get_circuit(5)\n",
    "c1.draw(output='mpl')"
   ]
  },
  {
   "cell_type": "code",
   "execution_count": 17,
   "id": "82c1f4a6",
   "metadata": {},
   "outputs": [
    {
     "name": "stdout",
     "output_type": "stream",
     "text": [
      "[0.70710677+0.j 0.        +0.j 0.        +0.j 0.        +0.j\n",
      " 0.        +0.j 0.        +0.j 0.        +0.j 0.        +0.j\n",
      " 0.        +0.j 0.        +0.j 0.        +0.j 0.        +0.j\n",
      " 0.        +0.j 0.        +0.j 0.        +0.j 0.        +0.j\n",
      " 0.        +0.j 0.        +0.j 0.        +0.j 0.        +0.j\n",
      " 0.        +0.j 0.        +0.j 0.        +0.j 0.        +0.j\n",
      " 0.        +0.j 0.        +0.j 0.        +0.j 0.        +0.j\n",
      " 0.        +0.j 0.        +0.j 0.        +0.j 0.70710677+0.j]\n"
     ]
    }
   ],
   "source": [
    "print(c1.state())"
   ]
  },
  {
   "cell_type": "markdown",
   "id": "93e113e5",
   "metadata": {},
   "source": [
    "02目标为：$$\\sum_{i=0}^{2^n-1}|i\\rangle = (|0\\rangle + |1\\rangle)\\otimes(|0\\rangle + |1\\rangle)\\otimes(|0\\rangle + |1\\rangle)……$$"
   ]
  },
  {
   "cell_type": "code",
   "execution_count": 4,
   "id": "9495f8aa",
   "metadata": {},
   "outputs": [
    {
     "data": {
      "image/png": "[encoded data removed]",
      "text/plain": [
       "<Figure size 146.797x325.08 with 1 Axes>"
      ]
     },
     "execution_count": 4,
     "metadata": {},
     "output_type": "execute_result"
    }
   ],
   "source": [
    "from functools import partial\n",
    "import inspect\n",
    "import sys\n",
    "import numpy as np\n",
    "import tensorflow as tf\n",
    "\n",
    "import tensorcircuit as tc\n",
    "\n",
    "n = 5\n",
    "def get_circuit(n):\n",
    "    c = tc.Circuit(n)  # 用 n 个量子比特初始化一个电路对象\n",
    "    for i in range(n):\n",
    "        c.H(i)  # 在每个量子比特上使用 Hadamard 门\n",
    "    return c\n",
    "get_circuit(n).draw(output='mpl')"
   ]
  },
  {
   "cell_type": "markdown",
   "id": "5883d422",
   "metadata": {},
   "source": [
    "03目标为：$$|00\\rangle\\rightarrow（U_1+U_2)|0\\rangle$$\n",
    "思路：$$|00\\rangle\\stackrel{H}{\\longrightarrow}|00\\rangle(|0\\rangle+|1\\rangle)\\stackrel{X_1CU_1X_1\\cdot CU_2}{\\longrightarrow}|U_10\\rangle+|U_21\\rangle\\stackrel{H}{\\longrightarrow}（U_1+U_2)|0\\rangle+（U_1-U_2)|1\\rangle\\stackrel{Measurement}{\\longrightarrow}（U_1+U_2)|0\\rangle$$"
   ]
  },
  {
   "cell_type": "code",
   "execution_count": 8,
   "id": "f9d7e168",
   "metadata": {},
   "outputs": [
    {
     "data": {
      "text/plain": [
       "<tf.Tensor: shape=(4,), dtype=complex64, numpy=\n",
       "array([0.        +0.j, 0.70710677+0.j, 0.        +0.j, 0.        +0.j],\n",
       "      dtype=complex64)>"
      ]
     },
     "execution_count": 8,
     "metadata": {},
     "output_type": "execute_result"
    }
   ],
   "source": [
    "from functools import partial\n",
    "import inspect\n",
    "import sys\n",
    "import numpy as np\n",
    "import tensorflow as tf\n",
    "\n",
    "import tensorcircuit as tc\n",
    "\n",
    "def get_circuit():\n",
    "    c = tc.Circuit(2)  # 用 n 个量子比特初始化一个电路对象\n",
    "    c.H(0)\n",
    "    c.X(0)\n",
    "    c.cnot(0,1)\n",
    "    c.X(0)\n",
    "    c.cz(0,1)\n",
    "    c.post_select(0, keep=0)\n",
    "    return c\n",
    "\n",
    "cc = get_circuit()\n",
    "cc.state()"
   ]
  },
  {
   "cell_type": "code",
   "execution_count": 10,
   "id": "9d74c489",
   "metadata": {},
   "outputs": [
    {
     "data": {
      "image/png": "[encoded data removed]",
      "text/plain": [
       "<Figure size 387.452x144.48 with 1 Axes>"
      ]
     },
     "execution_count": 10,
     "metadata": {},
     "output_type": "execute_result"
    }
   ],
   "source": [
    "cc.draw(output='mpl')"
   ]
  },
  {
   "cell_type": "markdown",
   "id": "89e7588e",
   "metadata": {},
   "source": [
    "### 1.4.2多比特下的参数平移"
   ]
  },
  {
   "cell_type": "code",
   "execution_count": null,
   "id": "8412fcc3",
   "metadata": {},
   "outputs": [],
   "source": [
    "def exp_sumz(n, nlayers, param):\n",
    "    c = tc.Circuit(n)\n",
    "    for j in range(nlayers):\n",
    "        for i in range(n):\n",
    "            c.rx(i, theta=param[i, j])\n",
    "        for i in range(n - 1):\n",
    "            c.cnot(i, i + 1)\n",
    "    return K.real(K.sum([c.expectation_ps(z=[i]) for i in range(n)]))"
   ]
  },
  {
   "cell_type": "markdown",
   "id": "8503045f",
   "metadata": {},
   "source": [
    "### 1.4.3量子门分解"
   ]
  },
  {
   "cell_type": "markdown",
   "id": "d2fcd23c",
   "metadata": {},
   "source": [
    "01目标：用cnot门实现swap门，即满足：\n",
    "$$|00\\rangle\\rightarrow|00\\rangle,|01\\rangle\\rightarrow|10\\rangle,|10\\rangle\\rightarrow|01\\rangle,|11\\rangle\\rightarrow|11\\rangle$$\n",
    "其中：$$|00\\rangle\\stackrel{cnot_{1,0}}{\\longrightarrow}|00\\rangle\\stackrel{cnot_{0,1}}{\\longrightarrow}|00\\rangle\\stackrel{cnot_{1,0}}{\\longrightarrow}|00\\rangle$$\n",
    "$$|01\\rangle\\stackrel{cnot_{1,0}}{\\longrightarrow}|11\\rangle\\stackrel{cnot_{0,1}}{\\longrightarrow}|10\\rangle\\stackrel{cnot_{1,0}}{\\longrightarrow}|10\\rangle$$\n",
    "$$|10\\rangle\\stackrel{cnot_{1,0}}{\\longrightarrow}|10\\rangle\\stackrel{cnot_{0,1}}{\\longrightarrow}|11\\rangle\\stackrel{cnot_{1,0}}{\\longrightarrow}|01\\rangle$$\n",
    "$$|11\\rangle\\stackrel{cnot_{1,0}}{\\longrightarrow}|01\\rangle\\stackrel{cnot_{0,1}}{\\longrightarrow}|01\\rangle\\stackrel{cnot_{1,0}}{\\longrightarrow}|11\\rangle$$\n",
    "综上，三次CNOT门为通解。"
   ]
  },
  {
   "cell_type": "code",
   "execution_count": 4,
   "id": "87c9a68c",
   "metadata": {},
   "outputs": [
    {
     "data": {
      "image/png": "[encoded data removed]",
      "text/plain": [
       "<Figure size 267.052x144.48 with 1 Axes>"
      ]
     },
     "execution_count": 4,
     "metadata": {},
     "output_type": "execute_result"
    }
   ],
   "source": [
    "import tensorcircuit as tc\n",
    "c = tc.Circuit(2)\n",
    "c.cnot(1,0)\n",
    "c.cnot(0,1)\n",
    "c.cnot(1,0)\n",
    "c.draw(output='mpl')"
   ]
  },
  {
   "cell_type": "markdown",
   "id": "b2bd2845",
   "metadata": {},
   "source": [
    "02用cnot门和Rz单比特门实现双比特门Rzz，以$|01\\rangle\\rightarrow e^{-i\\theta}|01\\rangle$为例\n",
    "已知：$$R_z(\\theta)= \\begin{bmatrix}e^{i\\theta}&\\\\&e^{-i\\theta}\\end{bmatrix}$$\n",
    "$$I = \\begin{bmatrix}1&\\\\&1\\end{bmatrix}$$\n",
    "$$CNOT = \\begin{bmatrix}1&0&0&0\\\\0&1&0&0\\\\0&0&0&1\\\\0&0&1&0\\end{bmatrix}$$\n",
    "$$|01\\rangle = \\left( \\begin{array}{c} 0\\\\1\\\\0\\\\0 \\end{array} \\right)$$\n",
    "故：$$I\\otimes R_z(\\theta) = \\begin{bmatrix}1&\\\\&1\\end{bmatrix} \\otimes \\begin{bmatrix}e^{i\\theta}&\\\\&e^{-i\\theta}\\end{bmatrix}$$\n",
    "则CNOT-Rz-CNOT门后：$$\\begin{bmatrix}e^{i\\theta}&&&\\\\&e^{-i\\theta}&&\\\\&&e^{-i\\theta}&\\\\&&&e^{i\\theta}\\end{bmatrix}$$"
   ]
  },
  {
   "cell_type": "code",
   "execution_count": 2,
   "id": "b739fb6e",
   "metadata": {},
   "outputs": [
    {
     "data": {
      "image/png": "[encoded data removed]",
      "text/plain": [
       "<Figure size 267.052x144.48 with 1 Axes>"
      ]
     },
     "execution_count": 2,
     "metadata": {},
     "output_type": "execute_result"
    }
   ],
   "source": [
    "import tensorcircuit as tc\n",
    "import math\n",
    "c = tc.Circuit(2)\n",
    "c.cnot(0,1)\n",
    "c.rz(1,theta=math.pi/2)\n",
    "c.cnot(0,1)\n",
    "c.draw(output='mpl')"
   ]
  },
  {
   "cell_type": "markdown",
   "id": "6b9934a1",
   "metadata": {},
   "source": [
    "### 1.4.4线路解释"
   ]
  },
  {
   "cell_type": "code",
   "execution_count": 6,
   "id": "b0ac8ede",
   "metadata": {},
   "outputs": [
    {
     "data": {
      "text/plain": [
       "array(0.9999999+0.j, dtype=complex64)"
      ]
     },
     "execution_count": 6,
     "metadata": {},
     "output_type": "execute_result"
    }
   ],
   "source": [
    "import numpy as np\n",
    "def hmtest(s, u):\n",
    "    np.testing.assert_allclose(\n",
    "        np.conj(u) @ np.transpose(u), np.eye(u.shape[-1]), atol=1e-6\n",
    "    )\n",
    "    input_state = np.kron(np.array([1, 0]), s)\n",
    "    n = int(np.log(s.shape[-1]) / np.log(2))\n",
    "    c = tc.Circuit(n + 1, inputs=input_state)\n",
    "    c.H(0)\n",
    "    c.multicontrol(*range(n + 1), ctrl=[1], unitary=u)\n",
    "    c.H(0)\n",
    "    return c.expectation_ps(z=[0])\n",
    "\n",
    "\n",
    "hmtest(\n",
    "    np.array([1.0, 0, 0, 0]),\n",
    "    np.kron(np.array([[1.0, 0], [0, -1]]), np.array([[1.0, 0], [0, -1]])),\n",
    ")"
   ]
  },
  {
   "cell_type": "markdown",
   "id": "7b1b0b19",
   "metadata": {},
   "source": [
    "矩阵：$$ \\begin{pmatrix}1&0\\\\0&-1\\end{pmatrix}\\otimes\\begin{pmatrix}1&0\\\\0&-1\\end{pmatrix}$$\n",
    "向量：$$\\boldsymbol{v} = [1,0,0,0]$$"
   ]
  },
  {
   "cell_type": "markdown",
   "id": "acaa4572",
   "metadata": {},
   "source": [
    "## 1.5量子算法"
   ]
  },
  {
   "cell_type": "markdown",
   "id": "55e28bc7",
   "metadata": {},
   "source": [
    "### 1.5.1问题oracle"
   ]
  },
  {
   "cell_type": "markdown",
   "id": "956c4393",
   "metadata": {},
   "source": [
    "# 3物理化学模拟方向"
   ]
  },
  {
   "cell_type": "markdown",
   "id": "44522f22",
   "metadata": {},
   "source": [
    "## 3.1VQE"
   ]
  },
  {
   "cell_type": "markdown",
   "id": "4c488e18",
   "metadata": {},
   "source": [
    "### 3.1.1哈密顿量"
   ]
  },
  {
   "cell_type": "code",
   "execution_count": 1,
   "id": "ddf8a309",
   "metadata": {},
   "outputs": [
    {
     "name": "stderr",
     "output_type": "stream",
     "text": [
      "2022-07-27 15:40:18.980986: W tensorflow/stream_executor/platform/default/dso_loader.cc:64] Could not load dynamic library 'libcudart.so.11.0'; dlerror: libcudart.so.11.0: cannot open shared object file: No such file or directory\n",
      "2022-07-27 15:40:18.981014: I tensorflow/stream_executor/cuda/cudart_stub.cc:29] Ignore above cudart dlerror if you do not have a GPU set up on your machine.\n"
     ]
    },
    {
     "name": "stdout",
     "output_type": "stream",
     "text": [
      "0\n",
      "-2.0\n",
      "1\n",
      "-3.4939592074349317\n",
      "2\n",
      "-6.249770839529159\n",
      "3\n",
      "-9.166635402827085\n",
      "4\n",
      "-12.12499248932782\n",
      "5\n",
      "-15.09999752493564\n",
      "6\n",
      "-18.083332335604098\n",
      "7\n",
      "-21.071428108961058\n",
      "8\n",
      "-24.062499762511834\n",
      "9\n",
      "-27.05555542365828\n",
      "10\n",
      "-30.049999922070175\n",
      "11\n",
      "-33.045454497045235\n",
      "12\n",
      "-36.041666635324475\n",
      "13\n",
      "-39.038461517451324\n",
      "14\n",
      "-42.035714271206714\n",
      "15\n",
      "-45.03333332305672\n",
      "16\n",
      "-48.03124999255666\n",
      "17\n",
      "-51.02941175920829\n",
      "18\n",
      "-54.027777773646385\n",
      "19\n",
      "-57.02631578632071\n"
     ]
    }
   ],
   "source": [
    "import tensorcircuit as tc\n",
    "import tensorflow as ts \n",
    "import numpy as np\n",
    "import math\n",
    "from numpy import linalg as LA\n",
    "\n",
    "tc.set_backend(\"tensorflow\")\n",
    "\n",
    "def i_iterate_multiplication(n):\n",
    "    tmp = 1\n",
    "    for i in range(n):\n",
    "        tmp = np.kron(I, tmp)\n",
    "    return tmp\n",
    "\n",
    "n = 3\n",
    "# h_i = 1\n",
    "H = 0\n",
    "theta = math.pi/2\n",
    "min_w = 999\n",
    "I = tc.gates._i_matrix\n",
    "X = tc.gates._x_matrix  \n",
    "Y = tc.gates._y_matrix  \n",
    "Z = tc.gates._z_matrix \n",
    "\n",
    "for h_i in range(0, 20):\n",
    "    for i in range(0, n-1):\n",
    "        H = H - np.kron(np.kron(i_iterate_multiplication(i), np.kron(Z, Z)), i_iterate_multiplication(n-2-i))\n",
    "    for i in range(0, n):\n",
    "        H = H + h_i * (np.kron(np.kron(i_iterate_multiplication(i), X), i_iterate_multiplication(n-1-i)))\n",
    "    # print(H)\n",
    "\n",
    "    w, v = LA.eig(H)\n",
    "\n",
    "    for i in range(0, len(w)):\n",
    "        if w[i] < min_w:\n",
    "            min_w = w[i]\n",
    "    print(h_i)\n",
    "    print(min_w)\n",
    "    min_w = 999\n",
    "    H = 0"
   ]
  },
  {
   "cell_type": "code",
   "execution_count": 2,
   "id": "4accc5eb",
   "metadata": {},
   "outputs": [
    {
     "name": "stderr",
     "output_type": "stream",
     "text": [
      "2022-07-27 15:40:27.476446: W tensorflow/stream_executor/platform/default/dso_loader.cc:64] Could not load dynamic library 'libcuda.so.1'; dlerror: libcuda.so.1: cannot open shared object file: No such file or directory\n",
      "2022-07-27 15:40:27.476509: W tensorflow/stream_executor/cuda/cuda_driver.cc:269] failed call to cuInit: UNKNOWN ERROR (303)\n",
      "2022-07-27 15:40:27.476543: I tensorflow/stream_executor/cuda/cuda_diagnostics.cc:156] kernel driver does not appear to be running on this host (imasonliu-LC4): /proc/driver/nvidia/version does not exist\n",
      "2022-07-27 15:40:27.477080: I tensorflow/core/platform/cpu_feature_guard.cc:193] This TensorFlow binary is optimized with oneAPI Deep Neural Network Library (oneDNN) to use the following CPU instructions in performance-critical operations:  AVX2 FMA\n",
      "To enable them in other operations, rebuild TensorFlow with the appropriate compiler flags.\n"
     ]
    },
    {
     "name": "stdout",
     "output_type": "stream",
     "text": [
      "SparseTensor(indices=tf.Tensor(\n",
      "[[0 0]\n",
      " [0 1]\n",
      " [0 2]\n",
      " [0 4]\n",
      " [1 0]\n",
      " [1 3]\n",
      " [1 5]\n",
      " [2 0]\n",
      " [2 2]\n",
      " [2 3]\n",
      " [2 6]\n",
      " [3 1]\n",
      " [3 2]\n",
      " [3 7]\n",
      " [4 0]\n",
      " [4 5]\n",
      " [4 6]\n",
      " [5 1]\n",
      " [5 4]\n",
      " [5 5]\n",
      " [5 7]\n",
      " [6 2]\n",
      " [6 4]\n",
      " [6 7]\n",
      " [7 3]\n",
      " [7 5]\n",
      " [7 6]\n",
      " [7 7]], shape=(28, 2), dtype=int64), values=tf.Tensor(\n",
      "[ 2.+0.j  1.+0.j  1.+0.j  1.+0.j  1.+0.j  1.+0.j  1.+0.j  1.+0.j -2.+0.j\n",
      "  1.+0.j  1.+0.j  1.+0.j  1.+0.j  1.+0.j  1.+0.j  1.+0.j  1.+0.j  1.+0.j\n",
      "  1.+0.j -2.+0.j  1.+0.j  1.+0.j  1.+0.j  1.+0.j  1.+0.j  1.+0.j  1.+0.j\n",
      "  2.+0.j], shape=(28,), dtype=complex64), dense_shape=tf.Tensor([8 8], shape=(2,), dtype=int64))\n"
     ]
    },
    {
     "name": "stderr",
     "output_type": "stream",
     "text": [
      "2022-07-27 15:40:27.823440: I tensorflow/compiler/xla/service/service.cc:170] XLA service 0x55849eba8510 initialized for platform Host (this does not guarantee that XLA will be used). Devices:\n",
      "2022-07-27 15:40:27.823469: I tensorflow/compiler/xla/service/service.cc:178]   StreamExecutor device (0): Host, Default Version\n",
      "2022-07-27 15:40:27.882174: I tensorflow/compiler/jit/xla_compilation_cache.cc:478] Compiled cluster using XLA!  This line is logged at most once for the lifetime of the process.\n"
     ]
    }
   ],
   "source": [
    "def make_list(t, n):\n",
    "    for i in range(n):\n",
    "        t.append(np.roll(t[-1], 1))\n",
    "n = 3\n",
    "h_i = 1\n",
    "a = [[0 for i in range(n)]]\n",
    "a[0][0] = 3\n",
    "a[0][1] = 3\n",
    "b = [[0 for i in range(n)]]\n",
    "b[0][0] = 1\n",
    "make_list(a, n-2)\n",
    "make_list(b, n-1)\n",
    "\n",
    "H_1 = tc.quantum.PauliStringSum2COO(np.array(a + b), numpy = False)\n",
    "print(H_1)"
   ]
  },
  {
   "cell_type": "markdown",
   "id": "91d7c05f",
   "metadata": {},
   "source": [
    "### 3.1.2线路结构"
   ]
  },
  {
   "cell_type": "code",
   "execution_count": 3,
   "id": "168c27fc",
   "metadata": {},
   "outputs": [
    {
     "name": "stderr",
     "output_type": "stream",
     "text": [
      "/home/tencent_go/anaconda3/envs/tc/lib/python3.8/site-packages/jax/experimental/optimizers.py:28: FutureWarning: jax.experimental.optimizers is deprecated, import jax.example_libraries.optimizers instead\n",
      "  warnings.warn('jax.experimental.optimizers is deprecated, '\n"
     ]
    }
   ],
   "source": [
    "from functools import partial\n",
    "import numpy as np\n",
    "import tensorflow as tf\n",
    "import jax\n",
    "from jax.config import config\n",
    "\n",
    "config.update(\"jax_enable_x64\", True)\n",
    "from jax import numpy as jnp\n",
    "from jax.experimental import optimizers\n",
    "import tensorcircuit as tc\n",
    "import math\n",
    "\n",
    "zz = np.kron(tc.gates._z_matrix, tc.gates._z_matrix)\n",
    "\n",
    "n = 2\n",
    "l1 = 100\n",
    "p1 = [math.pi for i in range(l1)]\n",
    "p2 = [math.pi for i in range(l1)]\n",
    "h = [1 for i in range(l1)]\n",
    "\n",
    "\n",
    "def rzz(c,i,j):\n",
    "    c.cnot(i,i+1)\n",
    "    c.rz(i+1,theta=p2[j])\n",
    "    c.cnot(i,i+1)\n",
    "    return c\n",
    "\n",
    "def energy(c: tc.Circuit):\n",
    "    e = 0.0\n",
    "    n = c._nqubits\n",
    "    for i in range(n):\n",
    "        e += h[i] * c.expectation((tc.gates.x(), [i]))  # <X_i>\n",
    "    for i in range(n - 1):  # OBC\n",
    "        e += (-1.0) * c.expectation(\n",
    "            (tc.gates.z(), [i]), (tc.gates.z(), [(i + 1) % n])\n",
    "        )  # <Z_iZ_{i+1}>\n",
    "    return tc.backend.real(e)\n",
    "    \n",
    "\n",
    "def ex(c):\n",
    "    n=c._nqubits\n",
    "    k=100\n",
    "    for i in range(n):\n",
    "        c.h(i)\n",
    "    for j in range(k):\n",
    "        for i in range(n):\n",
    "            c.rx(i,theta=p1[j])\n",
    "        for i in range(n-1):\n",
    "            c = rzz(c,i,j)\n",
    "    return energy(c)"
   ]
  },
  {
   "cell_type": "markdown",
   "id": "f2d01303",
   "metadata": {},
   "source": [
    "### 3.1.3变分原理"
   ]
  },
  {
   "cell_type": "markdown",
   "id": "1fa2d057",
   "metadata": {},
   "source": [
    "$$H\\stackrel{diag}{\\longrightarrow}\\begin{bmatrix}E_0&&&\\\\&E_1&&\\\\&&\\ddots&\\\\&&&E_n\\end{bmatrix}$$\n",
    "已知：$$E_1,E_2,E_3,\\cdots,E_n\\geqslant E_0$$\n",
    "$$\\sum_{i=0}^{n} \\boldsymbol{v}_i^2 = 1$$\n",
    "目标：$$\\boldsymbol{v}\\cdot H \\cdot \\boldsymbol{v} \\geqslant E_0$$\n",
    "即证：$$E_0\\boldsymbol{v}_0^2+E_1\\boldsymbol{v}_1^2+E_2\\boldsymbol{v}_2^2+\\cdots+E_n\\boldsymbol{v}_n^2 \\geqslant E_0\\sum_{i=0}^{n} \\boldsymbol{v}_i^2 = E_0$$\n",
    "成立"
   ]
  },
  {
   "cell_type": "markdown",
   "id": "c8d17f9c",
   "metadata": {},
   "source": [
    "### 3.1.4VQE"
   ]
  },
  {
   "cell_type": "code",
   "execution_count": 4,
   "id": "52ccffaa",
   "metadata": {},
   "outputs": [
    {
     "name": "stdout",
     "output_type": "stream",
     "text": [
      "tf.Tensor(-2.202721, shape=(), dtype=float32)\n"
     ]
    },
    {
     "data": {
      "image/png": "[encoded data removed]",
      "text/plain": [
       "<Figure size 432x288 with 1 Axes>"
      ]
     },
     "metadata": {
      "needs_background": "light"
     },
     "output_type": "display_data"
    }
   ],
   "source": [
    "from functools import partial\n",
    "import numpy as np\n",
    "import tensorflow as tf\n",
    "import jax\n",
    "from jax.config import config\n",
    "\n",
    "config.update(\"jax_enable_x64\", True)\n",
    "from jax import numpy as jnp\n",
    "from jax.experimental import optimizers\n",
    "import tensorcircuit as tc\n",
    "import math\n",
    "import matplotlib.pyplot as plt\n",
    "from numpy import linalg as LA\n",
    "\n",
    "tc.set_backend(\"tensorflow\")\n",
    "K = tc.set_backend(\"tensorflow\")\n",
    "zz = np.kron(tc.gates._z_matrix, tc.gates._z_matrix)\n",
    "\n",
    "n = 2\n",
    "l1 = 15\n",
    "P = K.ones(shape = [l1,n, 2], dtype = \"float32\")\n",
    "h = [1 for i in range(l1)]\n",
    "\n",
    "\n",
    "def rzz(c,i,j, params):\n",
    "    c.cnot(i,i+1)\n",
    "    c.rz(i+1,theta=params[j,i, 0])\n",
    "    c.cnot(i,i+1)\n",
    "    return c\n",
    "\n",
    "def energy(c: tc.Circuit):\n",
    "    e = 0.0\n",
    "    n = c._nqubits\n",
    "    for i in range(n):\n",
    "        e += h[i] * c.expectation((tc.gates.x(), [i]))  # <X_i>\n",
    "    for i in range(n - 1):  # OBC\n",
    "        e += (-1.0) * c.expectation(\n",
    "            (tc.gates.z(), [i]), (tc.gates.z(), [(i + 1) % n])\n",
    "        )  # <Z_iZ_{i+1}>\n",
    "    return tc.backend.real(e)\n",
    "    \n",
    "\n",
    "def ex(params):\n",
    "    c=tc.Circuit(n)\n",
    "    k=l1\n",
    "    for i in range(n):\n",
    "        c.ry(i,theta=params[0,i,0])\n",
    "        c.rz(i,theta=params[0,i,1])\n",
    "        c.s(i)\n",
    "    for j in range(k):\n",
    "        for i in range(n):\n",
    "            c.rx(i,theta=params[j, i, 1])\n",
    "        for i in range(n-1):\n",
    "            c = rzz(c,i,j, params)\n",
    "    return energy(c)\n",
    "\n",
    "vge = K.value_and_grad(ex)\n",
    "\n",
    "params = P\n",
    "history = [ ]\n",
    "opt = K.optimizer(tf.keras.optimizers.Adam(0.005))\n",
    "\n",
    "for _ in range(200):\n",
    "    v, g = vge(params)\n",
    "    params = opt.update(g, params)\n",
    "    history.append(v)\n",
    "\n",
    "plt.plot([i for i in range(200)], history)\n",
    "plt.ylabel(\"value\")\n",
    "plt.xlabel(\"training step\")\n",
    "\n",
    "print(history[-1])"
   ]
  },
  {
   "cell_type": "markdown",
   "id": "78aad46e",
   "metadata": {},
   "source": [
    "### 3.1.5分析"
   ]
  },
  {
   "cell_type": "markdown",
   "id": "5ccc6148",
   "metadata": {},
   "source": [
    "## 3.2时间演化"
   ]
  },
  {
   "cell_type": "markdown",
   "id": "9ddf887f",
   "metadata": {},
   "source": [
    "### 3.2.1Trotter分解"
   ]
  },
  {
   "cell_type": "code",
   "execution_count": 7,
   "id": "cc477ec4",
   "metadata": {},
   "outputs": [
    {
     "name": "stdout",
     "output_type": "stream",
     "text": [
      "tf.Tensor(\n",
      "[-6.3312799e-01-0.34079108j  2.9802322e-08+0.34079096j\n",
      "  1.4901161e-08+0.340791j    3.6687198e-01-0.34079087j], shape=(4,), dtype=complex64)\n",
      "tf.Tensor(\n",
      "[-0.63330626-0.34067416j  0.01070615+0.34067416j  0.01070615+0.34067422j\n",
      "  0.36669815-0.34067398j], shape=(4,), dtype=complex64)\n"
     ]
    }
   ],
   "source": [
    "import tensorcircuit as tc\n",
    "import tensorflow as ts \n",
    "import numpy as np\n",
    "import math\n",
    "from numpy import linalg as LA\n",
    "K = tc.set_backend(\"tensorflow\")\n",
    "\n",
    "sim_t = math.pi\n",
    "interval = 100\n",
    "dt = sim_t / interval\n",
    "cur_t = 0 \n",
    "h_m = 0.5\n",
    "\n",
    "qubit=2\n",
    "min_w = 999\n",
    "w=0\n",
    "v=0\n",
    "I = tc.gates._i_matrix\n",
    "X = tc.gates._x_matrix  \n",
    "Y = tc.gates._y_matrix  \n",
    "Z = tc.gates._z_matrix\n",
    "\n",
    "def i_iterate_multiplication(u):\n",
    "    tmp = 1\n",
    "    for i in range(u):\n",
    "        tmp = np.kron(I, tmp)\n",
    "    return tmp\n",
    "\n",
    "def zzi(i):\n",
    "     return np.kron(np.kron(i_iterate_multiplication(i), np.kron(Z, Z)), i_iterate_multiplication(qubit-2-i))\n",
    "    \n",
    "def xi(i):\n",
    "    return np.kron(np.kron(i_iterate_multiplication(i), X), i_iterate_multiplication(qubit-1-i))\n",
    "\n",
    "h_Z = 0\n",
    "h_X = 0\n",
    "for i in range(qubit-1):\n",
    "    h_Z = h_Z - zzi(i)\n",
    "for i in range(qubit):\n",
    "    h_X = h_X + h_m * xi(i)\n",
    "def evolution(h, t):\n",
    "    return tc.gates.exponential_gate(h, t)\n",
    "\n",
    "c_precise=tc.Circuit(qubit)\n",
    "c_trotter=tc.Circuit(qubit)\n",
    "c_precise.any(*range(qubit), unitary=evolution(h_X+h_Z, sim_t))\n",
    "print(c_precise.state())\n",
    "for _interval in range(interval):\n",
    "    c_trotter.any(*range(qubit), unitary=evolution(h_X, dt))\n",
    "    c_trotter.any(*range(qubit), unitary=evolution(h_Z, dt))\n",
    "    cur_t += dt\n",
    "print(c_trotter.state())"
   ]
  },
  {
   "cell_type": "markdown",
   "id": "a73b2722",
   "metadata": {},
   "source": [
    "### 3.2.2含时演化数值实现"
   ]
  },
  {
   "cell_type": "code",
   "execution_count": null,
   "id": "e839e32e",
   "metadata": {},
   "outputs": [],
   "source": []
  }
 ],
 "metadata": {
  "kernelspec": {
   "display_name": "Python 3 (ipykernel)",
   "language": "python",
   "name": "python3"
  },
  "language_info": {
   "codemirror_mode": {
    "name": "ipython",
    "version": 3
   },
   "file_extension": ".py",
   "mimetype": "text/x-python",
   "name": "python",
   "nbconvert_exporter": "python",
   "pygments_lexer": "ipython3",
   "version": "3.8.13"
  }
 },
 "nbformat": 4,
 "nbformat_minor": 5
}
