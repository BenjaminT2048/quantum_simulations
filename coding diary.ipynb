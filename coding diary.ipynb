{
 "cells": [
  {
   "cell_type": "markdown",
   "id": "25593643",
   "metadata": {},
   "source": [
    "#  通用题目"
   ]
  },
  {
   "cell_type": "markdown",
   "id": "ad3c8195",
   "metadata": {},
   "source": [
    "## 1.1 环境配置"
   ]
  },
  {
   "cell_type": "code",
   "execution_count": null,
   "id": "4e75da88",
   "metadata": {},
   "outputs": [],
   "source": [
    "from matplotlib import pyplot as plt\n",
    "import numpy as np\n",
    "import tensorcircuit as tc\n",
    "\n",
    "K = tc.set_backend(\"tensorflow\")\n",
    "\n",
    "\n",
    "@K.jit\n",
    "def exp_z(param):\n",
    "    c = tc.Circuit(1)\n",
    "    c.rx(0, theta=param)\n",
    "    return K.real(c.expectation_ps(z=[0]))\n",
    "\n",
    "\n",
    "grad_z = K.grad(exp_z)\n",
    "\n",
    "params = K.convert_to_tensor(np.arange(0, 2 * np.pi, 0.01))\n",
    "\n",
    "plt.plot(params, [exp_z(param) for param in params], label=r\"$\\langle Z\\rangle$\")\n",
    "plt.plot(\n",
    "    params,\n",
    "    [grad_z(param) for param in params],\n",
    "    label=r\"$\\frac{\\partial \\langle Z\\rangle}{\\partial \\theta}$\",\n",
    ")\n",
    "plt.legend()\n",
    "plt.xlabel(r\"$\\theta$\")\n",
    "plt.show()"
   ]
  },
  {
   "cell_type": "markdown",
   "id": "e52de6e2",
   "metadata": {},
   "source": [
    "## 1.2向量和矩阵"
   ]
  },
  {
   "cell_type": "markdown",
   "id": "d7aa0ee9",
   "metadata": {},
   "source": [
    "### 1.2.1矩阵旋转"
   ]
  },
  {
   "cell_type": "code",
   "execution_count": null,
   "id": "571ba2d1",
   "metadata": {},
   "outputs": [],
   "source": [
    "import math\n",
    "import numpy as np \n",
    "\n",
    "theta = 1\n",
    "A = np.array([[math.cos(theta), math.sin(theta)], [-math.sin(theta), math.cos(theta)]])\n",
    "\n",
    "B = np.array([1, 0])\n",
    "\n",
    "np.matmul(A, B)"
   ]
  },
  {
   "cell_type": "markdown",
   "id": "8af9ef47",
   "metadata": {},
   "source": [
    "### 1.2.2矩阵指数"
   ]
  },
  {
   "cell_type": "code",
   "execution_count": null,
   "id": "c0f2df32",
   "metadata": {},
   "outputs": [],
   "source": [
    "import tensorcircuit as tc\n",
    "import tensorflow as tf\n",
    "import math\n",
    "import numpy as np\n",
    "\n",
    "K = tc.set_backend(\"tensorflow\")\n",
    "\n",
    "X = tc.gates._x_matrix  \n",
    "Y = tc.gates._y_matrix  \n",
    "Z = tc.gates._z_matrix\n",
    "I = np.array([[1, 0],[0,1]])\n",
    "\n",
    "P = X*1j\n",
    "a = K.expm(P)\n",
    "print(a)\n",
    "\n",
    "theta = 1\n",
    "b = K.expm(P*theta)\n",
    "c = I*math.cos(theta) + P*math.sin(theta)\n",
    "d = b-c\n",
    "print(d)"
   ]
  },
  {
   "cell_type": "markdown",
   "id": "42f5b8f0",
   "metadata": {},
   "source": [
    "### 1.2.3矩阵关于向量的期望"
   ]
  },
  {
   "cell_type": "code",
   "execution_count": null,
   "id": "e4297789",
   "metadata": {
    "scrolled": true
   },
   "outputs": [],
   "source": [
    "import tensorcircuit as tc\n",
    "import tensorflow as tf\n",
    "import math\n",
    "import numpy as np\n",
    "from matplotlib import pyplot as plt\n",
    "\n",
    "K = tc.set_backend(\"tensorflow\")\n",
    "\n",
    "X = tc.gates._x_matrix  \n",
    "Y = tc.gates._y_matrix  \n",
    "Z = tc.gates._z_matrix\n",
    "P = X*1j\n",
    "Q = Y\n",
    "\n",
    "def func(theta):\n",
    "    v_0 = np.array([[1, 0]])\n",
    "    v = v_0 @ K.expm((P*theta)/2)\n",
    "    A = K.transpose(K.conj(v))\n",
    "    E = v @ Q @ A\n",
    "    return E[0,0]\n",
    "\n",
    "theta_list = np.arange(0, 2 * np.pi, 0.01)\n",
    "plt.plot(theta_list, [func(theta) for theta in theta_list])\n",
    "plt.show()"
   ]
  },
  {
   "cell_type": "markdown",
   "id": "a6cb92b6",
   "metadata": {},
   "source": [
    "### 1.2.4张量积"
   ]
  },
  {
   "cell_type": "code",
   "execution_count": null,
   "id": "9d9bde7e",
   "metadata": {},
   "outputs": [],
   "source": [
    "import tensorcircuit as tc\n",
    "import tensorflow as tf\n",
    "import math\n",
    "import numpy as np\n",
    "from matplotlib import pyplot as plt\n",
    "\n",
    "n = 3\n",
    "X = tc.gates._x_matrix \n",
    "Z = tc.gates._z_matrix\n",
    "H = np.zeros((2**n,2**n))\n",
    "for i in range(n):\n",
    "    H +=np.kron(np.kron(np.identity(2**i),Z),np.identity(2**(n-i-1)))\n",
    "for i in range(n-1):\n",
    "    H +=np.kron(np.kron(np.identity(2**i),X),np.identity(2**(n-i-1)))*np.kron(np.kron(np.identity(2**(i+1)),X),np.identity(2**(n-i-2)))\n",
    "\n",
    "print(H)\n",
    "print(H[0,0])"
   ]
  },
  {
   "cell_type": "markdown",
   "id": "f51081b3",
   "metadata": {},
   "source": [
    "### 1.2.5狄拉克符号"
   ]
  },
  {
   "cell_type": "code",
   "execution_count": null,
   "id": "23c589ce",
   "metadata": {},
   "outputs": [],
   "source": [
    "import math\n",
    "import numpy as np\n",
    "\n",
    "a = np.array([[0,\n",
    "               0,\n",
    "              1,\n",
    "              0,\n",
    "              0,\n",
    "              0,\n",
    "              0,\n",
    "              0]])\n",
    "b = np.array([[0,\n",
    "               0,\n",
    "              0,\n",
    "              0,\n",
    "              0,\n",
    "              1,\n",
    "              0,\n",
    "              0]])\n",
    "c = (a-b)/math.sqrt(2)\n",
    "print(c)"
   ]
  },
  {
   "cell_type": "markdown",
   "id": "0e25af2d",
   "metadata": {},
   "source": [
    "## 1.3导数与梯度下降"
   ]
  },
  {
   "cell_type": "markdown",
   "id": "c57d0d80",
   "metadata": {},
   "source": [
    "### 1.3.1数值微分"
   ]
  },
  {
   "cell_type": "code",
   "execution_count": null,
   "id": "e7eac817",
   "metadata": {},
   "outputs": [],
   "source": [
    "import tensorcircuit as tc\n",
    "import tensorflow as tf\n",
    "import math\n",
    "import numpy as np\n",
    "from matplotlib import pyplot as plt\n",
    "\n",
    "def f(x):\n",
    "    return x**2\n",
    "\n",
    "y=0.00001\n",
    "for x in range(5):\n",
    "    a = (f(x+y)-f(x))/y\n",
    "    print(a)"
   ]
  },
  {
   "cell_type": "markdown",
   "id": "5618191d",
   "metadata": {},
   "source": [
    "### 1.3.2三角函数数值微分"
   ]
  },
  {
   "cell_type": "markdown",
   "id": "dd616c76",
   "metadata": {},
   "source": [
    "不妨令$C=0:$\n",
    "$$f'(x)=\\frac {f(x+\\delta )-f(x- \\delta )}{\\tau}$$\n"
   ]
  },
  {
   "cell_type": "markdown",
   "id": "1278d86c",
   "metadata": {},
   "source": [
    "### 1.3.3单比特参数平移"
   ]
  },
  {
   "cell_type": "markdown",
   "id": "e2a9a606",
   "metadata": {},
   "source": []
  },
  {
   "cell_type": "code",
   "execution_count": null,
   "id": "73a15337",
   "metadata": {},
   "outputs": [],
   "source": []
  }
 ],
 "metadata": {
  "kernelspec": {
   "display_name": "Python 3 (ipykernel)",
   "language": "python",
   "name": "python3"
  },
  "language_info": {
   "codemirror_mode": {
    "name": "ipython",
    "version": 3
   },
   "file_extension": ".py",
   "mimetype": "text/x-python",
   "name": "python",
   "nbconvert_exporter": "python",
   "pygments_lexer": "ipython3",
   "version": "3.8.13"
  }
 },
 "nbformat": 4,
 "nbformat_minor": 5
}
