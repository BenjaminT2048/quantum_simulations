{
 "cells": [
  {
   "cell_type": "code",
   "execution_count": 1,
   "id": "f06ef30a",
   "metadata": {},
   "outputs": [
    {
     "name": "stderr",
     "output_type": "stream",
     "text": [
      "2022-07-27 14:06:55.705307: W tensorflow/stream_executor/platform/default/dso_loader.cc:64] Could not load dynamic library 'libcudart.so.11.0'; dlerror: libcudart.so.11.0: cannot open shared object file: No such file or directory\n",
      "2022-07-27 14:06:55.705323: I tensorflow/stream_executor/cuda/cudart_stub.cc:29] Ignore above cudart dlerror if you do not have a GPU set up on your machine.\n",
      "2022-07-27 14:06:58.078913: W tensorflow/stream_executor/platform/default/dso_loader.cc:64] Could not load dynamic library 'libcuda.so.1'; dlerror: libcuda.so.1: cannot open shared object file: No such file or directory\n",
      "2022-07-27 14:06:58.078931: W tensorflow/stream_executor/cuda/cuda_driver.cc:269] failed call to cuInit: UNKNOWN ERROR (303)\n",
      "2022-07-27 14:06:58.078941: I tensorflow/stream_executor/cuda/cuda_diagnostics.cc:156] kernel driver does not appear to be running on this host (imasonliu-LC2): /proc/driver/nvidia/version does not exist\n",
      "2022-07-27 14:06:58.079655: I tensorflow/core/platform/cpu_feature_guard.cc:193] This TensorFlow binary is optimized with oneAPI Deep Neural Network Library (oneDNN) to use the following CPU instructions in performance-critical operations:  AVX2 FMA\n",
      "To enable them in other operations, rebuild TensorFlow with the appropriate compiler flags.\n"
     ]
    }
   ],
   "source": [
    "import tensorcircuit as tc\n",
    "import tensorflow as ts \n",
    "import numpy as np\n",
    "import math\n",
    "from numpy import linalg as LA\n",
    "K = tc.set_backend(\"tensorflow\")\n",
    "\n",
    "dt=0.01\n",
    "n=1/dt\n",
    "t=0\n",
    "h=0.5\n",
    "\n",
    "nq=2\n",
    "c1=tc.Circuit(nq)\n",
    "c2=tc.Circuit(nq)\n",
    "H = 0\n",
    "theta = math.pi/2\n",
    "min_w = 999\n",
    "w=0\n",
    "v=0\n",
    "I = tc.gates._i_matrix\n",
    "X = tc.gates._x_matrix  \n",
    "Y = tc.gates._y_matrix  \n",
    "Z = tc.gates._z_matrix \n",
    "\n",
    "def i_iterate_multiplication(u):\n",
    "    tmp = 1\n",
    "    for i in range(u):\n",
    "        tmp = np.kron(I, tmp)\n",
    "    return tmp\n",
    "\n",
    "def zzi(i):\n",
    "     return np.kron(np.kron(i_iterate_multiplication(i), np.kron(Z, Z)), i_iterate_multiplication(nq-2-i))\n",
    "    \n",
    "def xi(i):\n",
    "    return h * (np.kron(np.kron(i_iterate_multiplication(i), X), i_iterate_multiplication(nq-1-i)))"
   ]
  },
  {
   "cell_type": "code",
   "execution_count": 2,
   "id": "ba3818e8",
   "metadata": {},
   "outputs": [
    {
     "name": "stdout",
     "output_type": "stream",
     "text": [
      "[[-1.   0.5  0.5  0. ]\n",
      " [ 0.5  1.   0.   0.5]\n",
      " [ 0.5  0.   1.   0.5]\n",
      " [ 0.   0.5  0.5 -1. ]]\n"
     ]
    }
   ],
   "source": [
    "for i in range(0, nq-1):\n",
    "    H = H - zzi(i)\n",
    "for i in range(0, nq):\n",
    "    H = H + xi(i)\n",
    "print(H)"
   ]
  },
  {
   "cell_type": "code",
   "execution_count": 3,
   "id": "2990191d",
   "metadata": {},
   "outputs": [
    {
     "name": "stdout",
     "output_type": "stream",
     "text": [
      "<tensorcircuit.circuit.Circuit object at 0x7f270c04f2b0>\n",
      "tf.Tensor(\n",
      "[ 0.34812307+0.7699635j   0.        -0.34922802j  0.        -0.349228j\n",
      " -0.1921793 -0.0715075j ], shape=(4,), dtype=complex64)\n"
     ]
    },
    {
     "ename": "InvalidArgumentError",
     "evalue": "cannot compute MatMul as input #1(zero-based) was expected to be a double tensor but is a complex64 tensor [Op:MatMul]",
     "output_type": "error",
     "traceback": [
      "\u001b[0;31m---------------------------------------------------------------------------\u001b[0m",
      "\u001b[0;31mInvalidArgumentError\u001b[0m                      Traceback (most recent call last)",
      "Input \u001b[0;32mIn [3]\u001b[0m, in \u001b[0;36m<cell line: 17>\u001b[0;34m()\u001b[0m\n\u001b[1;32m     15\u001b[0m         c2\u001b[38;5;241m.\u001b[39many(\u001b[38;5;241m0\u001b[39m,\u001b[38;5;241m1\u001b[39m,unitary\u001b[38;5;241m=\u001b[39mxi(j)\u001b[38;5;241m*\u001b[39mdt)     \n\u001b[1;32m     16\u001b[0m \u001b[38;5;28mprint\u001b[39m(c1\u001b[38;5;241m.\u001b[39mstate())\n\u001b[0;32m---> 17\u001b[0m \u001b[38;5;28mprint\u001b[39m(\u001b[43mc2\u001b[49m\u001b[38;5;241;43m.\u001b[39;49m\u001b[43mstate\u001b[49m\u001b[43m(\u001b[49m\u001b[43m)\u001b[49m)\n",
      "File \u001b[0;32m~/anaconda3/envs/tc/lib/python3.8/site-packages/tensorcircuit/circuit.py:604\u001b[0m, in \u001b[0;36mCircuit.wavefunction\u001b[0;34m(self, form)\u001b[0m\n\u001b[1;32m    594\u001b[0m \u001b[38;5;124;03m\"\"\"\u001b[39;00m\n\u001b[1;32m    595\u001b[0m \u001b[38;5;124;03mCompute the output wavefunction from the circuit.\u001b[39;00m\n\u001b[1;32m    596\u001b[0m \n\u001b[0;32m   (...)\u001b[0m\n\u001b[1;32m    601\u001b[0m \u001b[38;5;124;03m:rtype: Tensor\u001b[39;00m\n\u001b[1;32m    602\u001b[0m \u001b[38;5;124;03m\"\"\"\u001b[39;00m\n\u001b[1;32m    603\u001b[0m nodes, d_edges \u001b[38;5;241m=\u001b[39m \u001b[38;5;28mself\u001b[39m\u001b[38;5;241m.\u001b[39m_copy()\n\u001b[0;32m--> 604\u001b[0m t \u001b[38;5;241m=\u001b[39m \u001b[43mcontractor\u001b[49m\u001b[43m(\u001b[49m\u001b[43mnodes\u001b[49m\u001b[43m,\u001b[49m\u001b[43m \u001b[49m\u001b[43moutput_edge_order\u001b[49m\u001b[38;5;241;43m=\u001b[39;49m\u001b[43md_edges\u001b[49m\u001b[43m)\u001b[49m\n\u001b[1;32m    605\u001b[0m \u001b[38;5;28;01mif\u001b[39;00m form \u001b[38;5;241m==\u001b[39m \u001b[38;5;124m\"\u001b[39m\u001b[38;5;124mdefault\u001b[39m\u001b[38;5;124m\"\u001b[39m:\n\u001b[1;32m    606\u001b[0m     shape \u001b[38;5;241m=\u001b[39m [\u001b[38;5;241m-\u001b[39m\u001b[38;5;241m1\u001b[39m]\n",
      "File \u001b[0;32m~/anaconda3/envs/tc/lib/python3.8/site-packages/tensorcircuit/cons.py:632\u001b[0m, in \u001b[0;36mcustom\u001b[0;34m(nodes, optimizer, memory_limit, output_edge_order, ignore_edge_order, **kws)\u001b[0m\n\u001b[1;32m    629\u001b[0m total_size \u001b[38;5;241m=\u001b[39m \u001b[38;5;28;01mNone\u001b[39;00m\n\u001b[1;32m    630\u001b[0m \u001b[38;5;28;01mif\u001b[39;00m kws\u001b[38;5;241m.\u001b[39mget(\u001b[38;5;124m\"\u001b[39m\u001b[38;5;124mpreprocessing\u001b[39m\u001b[38;5;124m\"\u001b[39m, \u001b[38;5;28;01mNone\u001b[39;00m):\n\u001b[1;32m    631\u001b[0m     \u001b[38;5;66;03m# nodes = _full_light_cone_cancel(nodes)\u001b[39;00m\n\u001b[0;32m--> 632\u001b[0m     nodes, total_size \u001b[38;5;241m=\u001b[39m \u001b[43m_merge_single_gates\u001b[49m\u001b[43m(\u001b[49m\u001b[43mnodes\u001b[49m\u001b[43m)\u001b[49m\n\u001b[1;32m    633\u001b[0m \u001b[38;5;28;01mif\u001b[39;00m \u001b[38;5;129;01mnot\u001b[39;00m \u001b[38;5;28misinstance\u001b[39m(optimizer, \u001b[38;5;28mlist\u001b[39m):\n\u001b[1;32m    634\u001b[0m     alg \u001b[38;5;241m=\u001b[39m partial(optimizer, memory_limit\u001b[38;5;241m=\u001b[39mmemory_limit)\n",
      "File \u001b[0;32m~/anaconda3/envs/tc/lib/python3.8/site-packages/tensorcircuit/cons.py:246\u001b[0m, in \u001b[0;36m_merge_single_gates\u001b[0;34m(nodes, total_size)\u001b[0m\n\u001b[1;32m    244\u001b[0m njs \u001b[38;5;241m=\u001b[39m [i \u001b[38;5;28;01mfor\u001b[39;00m i, n \u001b[38;5;129;01min\u001b[39;00m \u001b[38;5;28menumerate\u001b[39m(nodes) \u001b[38;5;28;01mif\u001b[39;00m \u001b[38;5;28mid\u001b[39m(n) \u001b[38;5;129;01min\u001b[39;00m [\u001b[38;5;28mid\u001b[39m(e0\u001b[38;5;241m.\u001b[39mnode1), \u001b[38;5;28mid\u001b[39m(e0\u001b[38;5;241m.\u001b[39mnode2)]]\n\u001b[1;32m    245\u001b[0m qjs \u001b[38;5;241m=\u001b[39m [i \u001b[38;5;28;01mfor\u001b[39;00m i, n \u001b[38;5;129;01min\u001b[39;00m \u001b[38;5;28menumerate\u001b[39m(queue) \u001b[38;5;28;01mif\u001b[39;00m \u001b[38;5;28mid\u001b[39m(n) \u001b[38;5;129;01min\u001b[39;00m [\u001b[38;5;28mid\u001b[39m(e0\u001b[38;5;241m.\u001b[39mnode1), \u001b[38;5;28mid\u001b[39m(e0\u001b[38;5;241m.\u001b[39mnode2)]]\n\u001b[0;32m--> 246\u001b[0m new_node \u001b[38;5;241m=\u001b[39m \u001b[43mtn\u001b[49m\u001b[38;5;241;43m.\u001b[39;49m\u001b[43mcontract\u001b[49m\u001b[43m(\u001b[49m\u001b[43me0\u001b[49m\u001b[43m)\u001b[49m\n\u001b[1;32m    247\u001b[0m total_size \u001b[38;5;241m+\u001b[39m\u001b[38;5;241m=\u001b[39m _sizen(new_node)  \u001b[38;5;66;03m# type: ignore\u001b[39;00m\n\u001b[1;32m    249\u001b[0m logger\u001b[38;5;241m.\u001b[39mdebug(\n\u001b[1;32m    250\u001b[0m     _sizen(new_node, is_log\u001b[38;5;241m=\u001b[39m\u001b[38;5;28;01mTrue\u001b[39;00m),\n\u001b[1;32m    251\u001b[0m )\n",
      "File \u001b[0;32m~/anaconda3/envs/tc/lib/python3.8/site-packages/tensornetwork/network_components.py:1877\u001b[0m, in \u001b[0;36mcontract\u001b[0;34m(edge, name, axis_names)\u001b[0m\n\u001b[1;32m   1875\u001b[0m \u001b[38;5;28;01mif\u001b[39;00m edge\u001b[38;5;241m.\u001b[39mnode1 \u001b[38;5;129;01mis\u001b[39;00m edge\u001b[38;5;241m.\u001b[39mnode2:\n\u001b[1;32m   1876\u001b[0m   \u001b[38;5;28;01mreturn\u001b[39;00m _contract_trace(edge, name)\n\u001b[0;32m-> 1877\u001b[0m new_tensor \u001b[38;5;241m=\u001b[39m \u001b[43mbackend\u001b[49m\u001b[38;5;241;43m.\u001b[39;49m\u001b[43mtensordot\u001b[49m\u001b[43m(\u001b[49m\u001b[43medge\u001b[49m\u001b[38;5;241;43m.\u001b[39;49m\u001b[43mnode1\u001b[49m\u001b[38;5;241;43m.\u001b[39;49m\u001b[43mtensor\u001b[49m\u001b[43m,\u001b[49m\u001b[43m \u001b[49m\u001b[43medge\u001b[49m\u001b[38;5;241;43m.\u001b[39;49m\u001b[43mnode2\u001b[49m\u001b[38;5;241;43m.\u001b[39;49m\u001b[43mtensor\u001b[49m\u001b[43m,\u001b[49m\n\u001b[1;32m   1878\u001b[0m \u001b[43m                               \u001b[49m\u001b[43m[\u001b[49m\u001b[43m[\u001b[49m\u001b[43medge\u001b[49m\u001b[38;5;241;43m.\u001b[39;49m\u001b[43maxis1\u001b[49m\u001b[43m]\u001b[49m\u001b[43m,\u001b[49m\u001b[43m \u001b[49m\u001b[43m[\u001b[49m\u001b[43medge\u001b[49m\u001b[38;5;241;43m.\u001b[39;49m\u001b[43maxis2\u001b[49m\u001b[43m]\u001b[49m\u001b[43m]\u001b[49m\u001b[43m)\u001b[49m\n\u001b[1;32m   1879\u001b[0m new_node \u001b[38;5;241m=\u001b[39m Node(tensor\u001b[38;5;241m=\u001b[39mnew_tensor,\n\u001b[1;32m   1880\u001b[0m                 name\u001b[38;5;241m=\u001b[39mname,\n\u001b[1;32m   1881\u001b[0m                 axis_names\u001b[38;5;241m=\u001b[39maxis_names,\n\u001b[1;32m   1882\u001b[0m                 backend\u001b[38;5;241m=\u001b[39mbackend\u001b[38;5;241m.\u001b[39mname)\n\u001b[1;32m   1883\u001b[0m \u001b[38;5;66;03m# edge.node1 and edge.node2 get new edges in _remove_edges\u001b[39;00m\n",
      "File \u001b[0;32m~/anaconda3/envs/tc/lib/python3.8/site-packages/tensorcircuit/backends/tensorflow_backend.py:58\u001b[0m, in \u001b[0;36m_tensordot_tf\u001b[0;34m(self, a, b, axes)\u001b[0m\n\u001b[1;32m     55\u001b[0m \u001b[38;5;28;01mdef\u001b[39;00m \u001b[38;5;21m_tensordot_tf\u001b[39m(\n\u001b[1;32m     56\u001b[0m     \u001b[38;5;28mself\u001b[39m: Any, a: Tensor, b: Tensor, axes: Union[\u001b[38;5;28mint\u001b[39m, Sequence[Sequence[\u001b[38;5;28mint\u001b[39m]]]\n\u001b[1;32m     57\u001b[0m ) \u001b[38;5;241m-\u001b[39m\u001b[38;5;241m>\u001b[39m Tensor:\n\u001b[0;32m---> 58\u001b[0m     \u001b[38;5;28;01mreturn\u001b[39;00m \u001b[43mtf\u001b[49m\u001b[38;5;241;43m.\u001b[39;49m\u001b[43mtensordot\u001b[49m\u001b[43m(\u001b[49m\u001b[43ma\u001b[49m\u001b[43m,\u001b[49m\u001b[43m \u001b[49m\u001b[43mb\u001b[49m\u001b[43m,\u001b[49m\u001b[43m \u001b[49m\u001b[43maxes\u001b[49m\u001b[43m)\u001b[49m\n",
      "File \u001b[0;32m~/anaconda3/envs/tc/lib/python3.8/site-packages/tensorflow/python/util/traceback_utils.py:153\u001b[0m, in \u001b[0;36mfilter_traceback.<locals>.error_handler\u001b[0;34m(*args, **kwargs)\u001b[0m\n\u001b[1;32m    151\u001b[0m \u001b[38;5;28;01mexcept\u001b[39;00m \u001b[38;5;167;01mException\u001b[39;00m \u001b[38;5;28;01mas\u001b[39;00m e:\n\u001b[1;32m    152\u001b[0m   filtered_tb \u001b[38;5;241m=\u001b[39m _process_traceback_frames(e\u001b[38;5;241m.\u001b[39m__traceback__)\n\u001b[0;32m--> 153\u001b[0m   \u001b[38;5;28;01mraise\u001b[39;00m e\u001b[38;5;241m.\u001b[39mwith_traceback(filtered_tb) \u001b[38;5;28;01mfrom\u001b[39;00m \u001b[38;5;28mNone\u001b[39m\n\u001b[1;32m    154\u001b[0m \u001b[38;5;28;01mfinally\u001b[39;00m:\n\u001b[1;32m    155\u001b[0m   \u001b[38;5;28;01mdel\u001b[39;00m filtered_tb\n",
      "File \u001b[0;32m~/anaconda3/envs/tc/lib/python3.8/site-packages/tensorflow/python/framework/ops.py:7164\u001b[0m, in \u001b[0;36mraise_from_not_ok_status\u001b[0;34m(e, name)\u001b[0m\n\u001b[1;32m   7162\u001b[0m \u001b[38;5;28;01mdef\u001b[39;00m \u001b[38;5;21mraise_from_not_ok_status\u001b[39m(e, name):\n\u001b[1;32m   7163\u001b[0m   e\u001b[38;5;241m.\u001b[39mmessage \u001b[38;5;241m+\u001b[39m\u001b[38;5;241m=\u001b[39m (\u001b[38;5;124m\"\u001b[39m\u001b[38;5;124m name: \u001b[39m\u001b[38;5;124m\"\u001b[39m \u001b[38;5;241m+\u001b[39m name \u001b[38;5;28;01mif\u001b[39;00m name \u001b[38;5;129;01mis\u001b[39;00m \u001b[38;5;129;01mnot\u001b[39;00m \u001b[38;5;28;01mNone\u001b[39;00m \u001b[38;5;28;01melse\u001b[39;00m \u001b[38;5;124m\"\u001b[39m\u001b[38;5;124m\"\u001b[39m)\n\u001b[0;32m-> 7164\u001b[0m   \u001b[38;5;28;01mraise\u001b[39;00m core\u001b[38;5;241m.\u001b[39m_status_to_exception(e) \u001b[38;5;28;01mfrom\u001b[39;00m \u001b[38;5;28mNone\u001b[39m\n",
      "\u001b[0;31mInvalidArgumentError\u001b[0m: cannot compute MatMul as input #1(zero-based) was expected to be a double tensor but is a complex64 tensor [Op:MatMul]"
     ]
    }
   ],
   "source": [
    "#w, v = LA.eig(H)\n",
    "#for i in range(0, len(w)):\n",
    "#        if w[i] < min_w:\n",
    "#            min_w = w[i]\n",
    "            \n",
    "h1=tc.gates.exponential_gate(H,1)\n",
    "c1.any(0,1,unitary=h1)\n",
    "print(c1)\n",
    "n=int(n)\n",
    "for i in range(n):\n",
    "    t+=dt\n",
    "    zz=tc.gates.exponential_gate(zzi(j),dt)\n",
    "    for j in range(nq-1):\n",
    "        \n",
    "        c2.any(0,1,unitary=zz)\n",
    "    for j in range(nq):\n",
    "        c2.any(0,1,unitary=xi(j)*dt)     \n",
    "print(c1.state())\n",
    "print(c2.state())"
   ]
  },
  {
   "cell_type": "code",
   "execution_count": null,
   "id": "dbbaf436",
   "metadata": {},
   "outputs": [],
   "source": []
  }
 ],
 "metadata": {
  "kernelspec": {
   "display_name": "Python 3 (ipykernel)",
   "language": "python",
   "name": "python3"
  },
  "language_info": {
   "codemirror_mode": {
    "name": "ipython",
    "version": 3
   },
   "file_extension": ".py",
   "mimetype": "text/x-python",
   "name": "python",
   "nbconvert_exporter": "python",
   "pygments_lexer": "ipython3",
   "version": "3.8.13"
  }
 },
 "nbformat": 4,
 "nbformat_minor": 5
}
