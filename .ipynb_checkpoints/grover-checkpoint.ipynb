{
 "cells": [
  {
   "cell_type": "code",
   "execution_count": null,
   "id": "636db091",
   "metadata": {},
   "outputs": [],
   "source": [
    "import numpy as np\n",
    "import tensorcircuit as tc\n",
    "import tensorflow as tf\n",
    "import math\n",
    "\n",
    "def comp(c, i, j, k):\n",
    "    c.ccnot(i, j, k)\n",
    "    c.X(i)\n",
    "    c.X(j)\n",
    "    c.ccnot(i, j, k)\n",
    "    c.X(i)\n",
    "    c.X(j)\n",
    "    return c\n",
    "\n",
    "def oracle(c, n):\n",
    "    for i in range(5):\n",
    "        c = comp(c, i, i+1, i+6)\n",
    "    c = comp(c, 0, 3, 11)\n",
    "    c = comp(c, 2, 5, 12)\n",
    "    c.multicontrol(*range(6, 14), unitary = tc.gates.z(), ctrl=[1 for _ in range(6, 13)])\n",
    "    for i in range(5):\n",
    "        c = comp(c, i, i+1, i+6)\n",
    "    c = comp(c, 0, 3, 11)\n",
    "    c = comp(c, 2, 5, 12)\n",
    "    return c\n",
    "\n",
    "def reflection(c, n):\n",
    "    for i in range(n):\n",
    "        c.H(i)\n",
    "        c.X(i)\n",
    "    c.multicontrol(*range(n), unitary = tc.gates.z(), ctrl=[1 for _ in range(n - 1)])\n",
    "    for i in range(n):\n",
    "        c.X(i)\n",
    "        c.H(i)\n",
    "    return c\n",
    "\n",
    "n = 6\n",
    "m = 2\n",
    "tot_qubit = 14\n",
    "theta = math.asin(1.0/(4*math.sqrt(2)))\n",
    "r = round((math.pi / (2 * theta) - 1) / 2)\n",
    "c = tc.Circuit(tot_qubit)\n",
    "\n",
    "for i in range(6):\n",
    "    c.H(i)\n",
    "for i in range(6, tot_qubit):\n",
    "    c.X(i)\n",
    "for j in range(r):\n",
    "    c = oracle(c, n)\n",
    "    c = reflection(c, n)\n",
    "c.draw(output=\"mpl\")"
   ]
  },
  {
   "cell_type": "code",
   "execution_count": null,
   "id": "5d56b4e9",
   "metadata": {},
   "outputs": [],
   "source": []
  }
 ],
 "metadata": {
  "kernelspec": {
   "display_name": "Python 3 (ipykernel)",
   "language": "python",
   "name": "python3"
  },
  "language_info": {
   "codemirror_mode": {
    "name": "ipython",
    "version": 3
   },
   "file_extension": ".py",
   "mimetype": "text/x-python",
   "name": "python",
   "nbconvert_exporter": "python",
   "pygments_lexer": "ipython3",
   "version": "3.10.5"
  }
 },
 "nbformat": 4,
 "nbformat_minor": 5
}
