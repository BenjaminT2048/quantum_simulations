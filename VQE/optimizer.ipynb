{
 "cells": [
  {
   "cell_type": "code",
   "execution_count": 27,
   "id": "821ca798",
   "metadata": {},
   "outputs": [
    {
     "name": "stdout",
     "output_type": "stream",
     "text": [
      "tf.Tensor(-7.93335, shape=(), dtype=float32)\n"
     ]
    },
    {
     "data": {
      "image/png": "[encoded data removed]",
      "text/plain": [
       "<Figure size 432x288 with 1 Axes>"
      ]
     },
     "metadata": {
      "needs_background": "light"
     },
     "output_type": "display_data"
    }
   ],
   "source": [
    "from functools import partial\n",
    "import numpy as np\n",
    "import tensorflow as tf\n",
    "import jax\n",
    "from jax.config import config\n",
    "\n",
    "config.update(\"jax_enable_x64\", True)\n",
    "from jax import numpy as jnp\n",
    "from jax.experimental import optimizers\n",
    "import tensorcircuit as tc\n",
    "import math\n",
    "import matplotlib.pyplot as plt\n",
    "K = tc.set_backend(\"tensorflow\")\n",
    "zz = np.kron(tc.gates._z_matrix, tc.gates._z_matrix)\n",
    "\n",
    "n = 5\n",
    "l1 = 5\n",
    "P = K.ones(shape = [l1, 2], dtype = \"float32\")\n",
    "h = [3 for i in range(l1)]\n",
    "\n",
    "\n",
    "def rzz(c,i,j, params):\n",
    "    c.cnot(i,i+1)\n",
    "    c.rz(i+1,theta=params[j, 0])\n",
    "    c.cnot(i,i+1)\n",
    "    return c\n",
    "\n",
    "def energy(c: tc.Circuit):\n",
    "    e = 0.0\n",
    "    n = c._nqubits\n",
    "    for i in range(n):\n",
    "        e += h[i] * c.expectation((tc.gates.x(), [i]))  # <X_i>\n",
    "    for i in range(n - 1):  # OBC\n",
    "        e += (-1.0) * c.expectation(\n",
    "            (tc.gates.z(), [i]), (tc.gates.z(), [(i + 1) % n])\n",
    "        )  # <Z_iZ_{i+1}>\n",
    "    return tc.backend.real(e)\n",
    "    \n",
    "\n",
    "def ex(params):\n",
    "    c=tc.Circuit(n)\n",
    "    k=l1\n",
    "    for i in range(n):\n",
    "        c.h(i)\n",
    "    for j in range(k):\n",
    "        for i in range(n):\n",
    "            c.rx(i,theta=params[j, 1])\n",
    "        for i in range(n-1):\n",
    "            c = rzz(c,i,j, params)\n",
    "    return energy(c)\n",
    "\n",
    "vge = K.value_and_grad(ex)\n",
    "\n",
    "params = P\n",
    "history = [ ]\n",
    "opt = K.optimizer(tf.keras.optimizers.Adam(1e-2))\n",
    "\n",
    "for _ in range(100):\n",
    "    v, g = vge(params)\n",
    "    params = opt.update(g, params)\n",
    "    history.append(v)\n",
    "\n",
    "plt.plot([i for i in range(100)], history)\n",
    "plt.ylabel(\"infidelity\")\n",
    "plt.xlabel(\"training step\")\n",
    "\n",
    "print(history[-1])"
   ]
  },
  {
   "cell_type": "code",
   "execution_count": null,
   "id": "359113ad",
   "metadata": {},
   "outputs": [],
   "source": []
  }
 ],
 "metadata": {
  "kernelspec": {
   "display_name": "Python 3 (ipykernel)",
   "language": "python",
   "name": "python3"
  },
  "language_info": {
   "codemirror_mode": {
    "name": "ipython",
    "version": 3
   },
   "file_extension": ".py",
   "mimetype": "text/x-python",
   "name": "python",
   "nbconvert_exporter": "python",
   "pygments_lexer": "ipython3",
   "version": "3.10.5"
  }
 },
 "nbformat": 4,
 "nbformat_minor": 5
}
