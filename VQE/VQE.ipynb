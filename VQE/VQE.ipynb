{
 "cells": [
  {
   "cell_type": "code",
   "execution_count": 8,
   "id": "1165e033",
   "metadata": {},
   "outputs": [],
   "source": [
    "from functools import partial\n",
    "import numpy as np\n",
    "import tensorflow as tf\n",
    "import jax\n",
    "from jax.config import config\n",
    "\n",
    "config.update(\"jax_enable_x64\", True)\n",
    "from jax import numpy as jnp\n",
    "from jax.experimental import optimizers\n",
    "import tensorcircuit as tc\n",
    "\n",
    "zz = np.kron(tc.gates._z_matrix, tc.gates._z_matrix)\n",
    "\n",
    "l1 = 100\n",
    "p1 = [0 for i in range(l1)]\n",
    "p2 = [0 for i in range(l1)]\n",
    "h = [1 for i in range(l1)]\n",
    "\n",
    "\n",
    "def rzz(c,i,j):\n",
    "    c.cnot(i,i+1)\n",
    "    c.rz(i+1,p2[j])\n",
    "    c.cnot(i,i+1)\n",
    "    return c\n",
    "\n",
    "def energy(c: tc.Circuit):\n",
    "    e = 0.0\n",
    "    n = c._nqubits\n",
    "    for i in range(n):\n",
    "        e += h[i] * c.expectation((tc.gates.x(), [i]))  # <X_i>\n",
    "    for i in range(n - 1):  # OBC\n",
    "        e += (-1.0) * c.expectation(\n",
    "            (tc.gates.z(), [i]), (tc.gates.z(), [(i + 1) % n])\n",
    "        )  # <Z_iZ_{i+1}>\n",
    "    return tc.backend.real(e)\n",
    "    \n",
    "\n",
    "def ex(c):\n",
    "    n=c._nqubits\n",
    "    k=100\n",
    "    for i in range(n):\n",
    "        c.h(i)\n",
    "    for j in range(k):\n",
    "        for i in range(n):\n",
    "            c.rx(i,p1[j])\n",
    "        for i in range(n-1):\n",
    "            c=rzz(c,i,j)\n",
    "    return energy(c)\n",
    "    \n",
    "    "
   ]
  },
  {
   "cell_type": "code",
   "execution_count": null,
   "id": "61e41233",
   "metadata": {},
   "outputs": [],
   "source": []
  },
  {
   "cell_type": "code",
   "execution_count": null,
   "id": "efd5dcb6",
   "metadata": {},
   "outputs": [],
   "source": []
  }
 ],
 "metadata": {
  "kernelspec": {
   "display_name": "Python 3 (ipykernel)",
   "language": "python",
   "name": "python3"
  },
  "language_info": {
   "codemirror_mode": {
    "name": "ipython",
    "version": 3
   },
   "file_extension": ".py",
   "mimetype": "text/x-python",
   "name": "python",
   "nbconvert_exporter": "python",
   "pygments_lexer": "ipython3",
   "version": "3.8.13"
  }
 },
 "nbformat": 4,
 "nbformat_minor": 5
}
