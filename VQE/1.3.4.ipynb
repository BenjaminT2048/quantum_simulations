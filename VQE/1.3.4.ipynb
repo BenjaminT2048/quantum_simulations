{
 "cells": [
  {
   "cell_type": "code",
   "execution_count": null,
   "id": "38279efa",
   "metadata": {},
   "outputs": [],
   "source": [
    "import numpy as np\n",
    "from scipy.linalg import expm, sinm, cosm\n",
    "x=1\n",
    "z=0.000001\n",
    "def  f(u):\n",
    "    t=np.cos(u)*p2+1j*np.sin(u)*p3\n",
    "    return 1j*t[0][0]\n",
    "def grad(u):\n",
    "    return ((f(u+z)-f(u-z))/(2*z))\n",
    "def find(now):\n",
    "    u=0.000000001\n",
    "    if grad(now)*grad(now+u)<0: return 0\n",
    "    if grad(now)<0 :\n",
    "        while grad(now+u)<0: \n",
    "            u=u*1.5\n",
    "        now=now+u\n",
    "    else:\n",
    "        while grad(now-u)>0:\n",
    "            u=u*1.5\n",
    "        now=now-u\n",
    "    print(f(now))\n",
    "    find(now)\n",
    "    \n",
    "p1=np.array([[0,1],[1,0]])\n",
    "p2=np.array([[0,-1j],[1j,0]])\n",
    "p3=np.array([[1,0],[0,1]])\n",
    "\n",
    "\n",
    "now=70;\n",
    "print(f(now))\n",
    "find(now)"
   ]
  }
 ],
 "metadata": {
  "kernelspec": {
   "display_name": "Python 3 (ipykernel)",
   "language": "python",
   "name": "python3"
  },
  "language_info": {
   "codemirror_mode": {
    "name": "ipython",
    "version": 3
   },
   "file_extension": ".py",
   "mimetype": "text/x-python",
   "name": "python",
   "nbconvert_exporter": "python",
   "pygments_lexer": "ipython3",
   "version": "3.8.13"
  }
 },
 "nbformat": 4,
 "nbformat_minor": 5
}
