{
 "cells": [
  {
   "cell_type": "code",
   "execution_count": 18,
   "id": "7c19f7af",
   "metadata": {},
   "outputs": [
    {
     "name": "stdout",
     "output_type": "stream",
     "text": [
      "0\n",
      "-2.0\n",
      "1\n",
      "-3.4939592074349317\n",
      "2\n",
      "-6.249770839529159\n",
      "3\n",
      "-9.166635402827085\n",
      "4\n",
      "-12.12499248932782\n",
      "5\n",
      "-15.09999752493564\n",
      "6\n",
      "-18.083332335604098\n",
      "7\n",
      "-21.071428108961058\n",
      "8\n",
      "-24.062499762511834\n",
      "9\n",
      "-27.05555542365828\n",
      "10\n",
      "-30.049999922070175\n",
      "11\n",
      "-33.045454497045235\n",
      "12\n",
      "-36.041666635324475\n",
      "13\n",
      "-39.038461517451324\n",
      "14\n",
      "-42.035714271206714\n",
      "15\n",
      "-45.03333332305672\n",
      "16\n",
      "-48.03124999255666\n",
      "17\n",
      "-51.02941175920829\n",
      "18\n",
      "-54.027777773646385\n",
      "19\n",
      "-57.02631578632071\n"
     ]
    }
   ],
   "source": [
    "import tensorcircuit as tc\n",
    "import tensorflow as ts \n",
    "import numpy as np\n",
    "import math\n",
    "from numpy import linalg as LA\n",
    "\n",
    "tc.set_backend(\"tensorflow\")\n",
    "\n",
    "def i_iterate_multiplication(n):\n",
    "    tmp = 1\n",
    "    for i in range(n):\n",
    "        tmp = np.kron(I, tmp)\n",
    "    return tmp\n",
    "\n",
    "n = 3\n",
    "# h_i = 1\n",
    "H = 0\n",
    "theta = math.pi/2\n",
    "min_w = 999\n",
    "I = tc.gates._i_matrix\n",
    "X = tc.gates._x_matrix  \n",
    "Y = tc.gates._y_matrix  \n",
    "Z = tc.gates._z_matrix \n",
    "\n",
    "for h_i in range(0, 20):\n",
    "    for i in range(0, n-1):\n",
    "        H = H - np.kron(np.kron(i_iterate_multiplication(i), np.kron(Z, Z)), i_iterate_multiplication(n-2-i))\n",
    "    for i in range(0, n):\n",
    "        H = H + h_i * (np.kron(np.kron(i_iterate_multiplication(i), X), i_iterate_multiplication(n-1-i)))\n",
    "    # print(H)\n",
    "\n",
    "    w, v = LA.eig(H)\n",
    "\n",
    "    for i in range(0, len(w)):\n",
    "        if w[i] < min_w:\n",
    "            min_w = w[i]\n",
    "    print(h_i)\n",
    "    print(min_w)\n",
    "    min_w = 999\n",
    "    H = 0"
   ]
  },
  {
   "cell_type": "code",
   "execution_count": 10,
   "id": "1fff4eb4",
   "metadata": {},
   "outputs": [
    {
     "name": "stderr",
     "output_type": "stream",
     "text": [
      "2022-07-26 19:46:31.985164: W tensorflow/stream_executor/platform/default/dso_loader.cc:64] Could not load dynamic library 'libcuda.so.1'; dlerror: libcuda.so.1: cannot open shared object file: No such file or directory\n",
      "2022-07-26 19:46:31.985183: W tensorflow/stream_executor/cuda/cuda_driver.cc:269] failed call to cuInit: UNKNOWN ERROR (303)\n",
      "2022-07-26 19:46:31.985209: I tensorflow/stream_executor/cuda/cuda_diagnostics.cc:156] kernel driver does not appear to be running on this host (imasonliu-LC1): /proc/driver/nvidia/version does not exist\n",
      "2022-07-26 19:46:31.985377: I tensorflow/core/platform/cpu_feature_guard.cc:193] This TensorFlow binary is optimized with oneAPI Deep Neural Network Library (oneDNN) to use the following CPU instructions in performance-critical operations:  AVX2 FMA\n",
      "To enable them in other operations, rebuild TensorFlow with the appropriate compiler flags.\n"
     ]
    },
    {
     "name": "stdout",
     "output_type": "stream",
     "text": [
      "SparseTensor(indices=tf.Tensor(\n",
      "[[0 0]\n",
      " [0 1]\n",
      " [0 2]\n",
      " [0 4]\n",
      " [1 0]\n",
      " [1 3]\n",
      " [1 5]\n",
      " [2 0]\n",
      " [2 2]\n",
      " [2 3]\n",
      " [2 6]\n",
      " [3 1]\n",
      " [3 2]\n",
      " [3 7]\n",
      " [4 0]\n",
      " [4 5]\n",
      " [4 6]\n",
      " [5 1]\n",
      " [5 4]\n",
      " [5 5]\n",
      " [5 7]\n",
      " [6 2]\n",
      " [6 4]\n",
      " [6 7]\n",
      " [7 3]\n",
      " [7 5]\n",
      " [7 6]\n",
      " [7 7]], shape=(28, 2), dtype=int64), values=tf.Tensor(\n",
      "[ 2.+0.j  1.+0.j  1.+0.j  1.+0.j  1.+0.j  1.+0.j  1.+0.j  1.+0.j -2.+0.j\n",
      "  1.+0.j  1.+0.j  1.+0.j  1.+0.j  1.+0.j  1.+0.j  1.+0.j  1.+0.j  1.+0.j\n",
      "  1.+0.j -2.+0.j  1.+0.j  1.+0.j  1.+0.j  1.+0.j  1.+0.j  1.+0.j  1.+0.j\n",
      "  2.+0.j], shape=(28,), dtype=complex64), dense_shape=tf.Tensor([8 8], shape=(2,), dtype=int64))\n"
     ]
    },
    {
     "name": "stderr",
     "output_type": "stream",
     "text": [
      "2022-07-26 19:46:32.365226: I tensorflow/compiler/xla/service/service.cc:170] XLA service 0x557999d23000 initialized for platform Host (this does not guarantee that XLA will be used). Devices:\n",
      "2022-07-26 19:46:32.365313: I tensorflow/compiler/xla/service/service.cc:178]   StreamExecutor device (0): Host, Default Version\n",
      "2022-07-26 19:46:32.432914: I tensorflow/compiler/jit/xla_compilation_cache.cc:478] Compiled cluster using XLA!  This line is logged at most once for the lifetime of the process.\n"
     ]
    }
   ],
   "source": [
    "def make_list(t, n):\n",
    "    for i in range(n):\n",
    "        t.append(np.roll(t[-1], 1))\n",
    "n = 3\n",
    "h_i = 1\n",
    "a = [[0 for i in range(n)]]\n",
    "a[0][0] = 3\n",
    "a[0][1] = 3\n",
    "b = [[0 for i in range(n)]]\n",
    "b[0][0] = 1\n",
    "make_list(a, n-2)\n",
    "make_list(b, n-1)\n",
    "\n",
    "H_1 = tc.quantum.PauliStringSum2COO(np.array(a + b), numpy = False)\n",
    "print(H_1)"
   ]
  },
  {
   "cell_type": "code",
   "execution_count": null,
   "id": "93ba602f",
   "metadata": {},
   "outputs": [],
   "source": [
    "\n"
   ]
  }
 ],
 "metadata": {
  "kernelspec": {
   "display_name": "Python 3 (ipykernel)",
   "language": "python",
   "name": "python3"
  },
  "language_info": {
   "codemirror_mode": {
    "name": "ipython",
    "version": 3
   },
   "file_extension": ".py",
   "mimetype": "text/x-python",
   "name": "python",
   "nbconvert_exporter": "python",
   "pygments_lexer": "ipython3",
   "version": "3.8.13"
  }
 },
 "nbformat": 4,
 "nbformat_minor": 5
}
