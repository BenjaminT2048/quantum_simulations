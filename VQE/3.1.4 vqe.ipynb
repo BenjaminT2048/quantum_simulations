{
 "cells": [
  {
   "cell_type": "code",
   "execution_count": 78,
   "id": "074d80b5",
   "metadata": {},
   "outputs": [
    {
     "name": "stdout",
     "output_type": "stream",
     "text": [
      "tf.Tensor(-2.202721, shape=(), dtype=float32)\n"
     ]
    },
    {
     "data": {
      "image/png": "[encoded data removed]",
      "text/plain": [
       "<Figure size 432x288 with 1 Axes>"
      ]
     },
     "metadata": {
      "needs_background": "light"
     },
     "output_type": "display_data"
    }
   ],
   "source": [
    "from functools import partial\n",
    "import numpy as np\n",
    "import tensorflow as tf\n",
    "import jax\n",
    "from jax.config import config\n",
    "\n",
    "config.update(\"jax_enable_x64\", True)\n",
    "from jax import numpy as jnp\n",
    "from jax.experimental import optimizers\n",
    "import tensorcircuit as tc\n",
    "import math\n",
    "import matplotlib.pyplot as plt\n",
    "from numpy import linalg as LA\n",
    "\n",
    "tc.set_backend(\"tensorflow\")\n",
    "K = tc.set_backend(\"tensorflow\")\n",
    "zz = np.kron(tc.gates._z_matrix, tc.gates._z_matrix)\n",
    "\n",
    "n = 2\n",
    "l1 = 15\n",
    "P = K.ones(shape = [l1,n, 2], dtype = \"float32\")\n",
    "h = [1 for i in range(l1)]\n",
    "\n",
    "\n",
    "def rzz(c,i,j, params):\n",
    "    c.cnot(i,i+1)\n",
    "    c.rz(i+1,theta=params[j,i, 0])\n",
    "    c.cnot(i,i+1)\n",
    "    return c\n",
    "\n",
    "def energy(c: tc.Circuit):\n",
    "    e = 0.0\n",
    "    n = c._nqubits\n",
    "    for i in range(n):\n",
    "        e += h[i] * c.expectation((tc.gates.x(), [i]))  # <X_i>\n",
    "    for i in range(n - 1):  # OBC\n",
    "        e += (-1.0) * c.expectation(\n",
    "            (tc.gates.z(), [i]), (tc.gates.z(), [(i + 1) % n])\n",
    "        )  # <Z_iZ_{i+1}>\n",
    "    return tc.backend.real(e)\n",
    "    \n",
    "\n",
    "def ex(params):\n",
    "    c=tc.Circuit(n)\n",
    "    k=l1\n",
    "    for i in range(n):\n",
    "        c.ry(i,theta=params[0,i,0])\n",
    "        c.rz(i,theta=params[0,i,1])\n",
    "        c.s(i)\n",
    "    for j in range(k):\n",
    "        for i in range(n):\n",
    "            c.rx(i,theta=params[j, i, 1])\n",
    "        for i in range(n-1):\n",
    "            c = rzz(c,i,j, params)\n",
    "    return energy(c)\n",
    "\n",
    "vge = K.value_and_grad(ex)\n",
    "\n",
    "params = P\n",
    "history = [ ]\n",
    "opt = K.optimizer(tf.keras.optimizers.Adam(0.005))\n",
    "\n",
    "for _ in range(200):\n",
    "    v, g = vge(params)\n",
    "    params = opt.update(g, params)\n",
    "    history.append(v)\n",
    "\n",
    "plt.plot([i for i in range(200)], history)\n",
    "plt.ylabel(\"value\")\n",
    "plt.xlabel(\"training step\")\n",
    "\n",
    "print(history[-1])"
   ]
  },
  {
   "cell_type": "code",
   "execution_count": null,
   "id": "8708403b",
   "metadata": {},
   "outputs": [],
   "source": [
    "+"
   ]
  },
  {
   "cell_type": "code",
   "execution_count": null,
   "id": "6b0f421a",
   "metadata": {},
   "outputs": [],
   "source": []
  }
 ],
 "metadata": {
  "kernelspec": {
   "display_name": "Python 3 (ipykernel)",
   "language": "python",
   "name": "python3"
  },
  "language_info": {
   "codemirror_mode": {
    "name": "ipython",
    "version": 3
   },
   "file_extension": ".py",
   "mimetype": "text/x-python",
   "name": "python",
   "nbconvert_exporter": "python",
   "pygments_lexer": "ipython3",
   "version": "3.8.13"
  }
 },
 "nbformat": 4,
 "nbformat_minor": 5
}
