{
 "cells": [
  {
   "cell_type": "code",
   "execution_count": 17,
   "id": "821ca798",
   "metadata": {},
   "outputs": [],
   "source": [
    "from functools import partial\n",
    "import numpy as np\n",
    "import tensorflow as tf\n",
    "#import jax\n",
    "#from jax.config import config\n",
    "\n",
    "#config.update(\"jax_enable_x64\", True)\n",
    "#from jax import numpy as jnp\n",
    "#from jax.experimental import optimizers\n",
    "import tensorcircuit as tc\n",
    "import math\n",
    "import matplotlib.pyplot as plt"
   ]
  },
  {
   "cell_type": "code",
   "execution_count": 18,
   "id": "359113ad",
   "metadata": {},
   "outputs": [],
   "source": [
    "K = tc.set_backend(\"tensorflow\")\n",
    "zz = np.kron(tc.gates._z_matrix, tc.gates._z_matrix)\n",
    "\n",
    "qubit = 5\n",
    "level = 5\n",
    "batch = 6\n",
    "h = [3 for i in range(level)]\n",
    "\n",
    "\n",
    "def rzz(c,i,j, params):\n",
    "    c.cnot(i,i+1)\n",
    "    c.rz(i+1,theta=params[j, 0])\n",
    "    c.cnot(i,i+1)\n",
    "    return c\n",
    "\n",
    "def energy(c: tc.Circuit):\n",
    "    e = 0.0\n",
    "    n = c._nqubits\n",
    "    for i in range(n):\n",
    "        e += h[i] * c.expectation((tc.gates.x(), [i]))  # <X_i>\n",
    "    for i in range(n - 1):  # OBC\n",
    "        e += (-1.0) * c.expectation(\n",
    "            (tc.gates.z(), [i]), (tc.gates.z(), [(i + 1) % n])\n",
    "        )  # <Z_iZ_{i+1}>\n",
    "    return tc.backend.real(e)\n",
    "    \n",
    "\n",
    "def ex(params):\n",
    "    c=tc.Circuit(qubit)\n",
    "    k=level\n",
    "    for i in range(qubit):\n",
    "        c.h(i)\n",
    "    for j in range(k):\n",
    "        for i in range(qubit):\n",
    "            c.rx(i,theta=params[j, 1])\n",
    "        for i in range(qubit-1):\n",
    "            c = rzz(c,i,j, params)\n",
    "    return energy(c)\n",
    "\n",
    "ex_vg = tc.backend.jit(tc.backend.vvag(ex, argnums=0, vectorized_argnums=0))"
   ]
  },
  {
   "cell_type": "code",
   "execution_count": 16,
   "id": "d31d1063",
   "metadata": {},
   "outputs": [
    {
     "name": "stdout",
     "output_type": "stream",
     "text": [
      "-7.933343\n"
     ]
    },
    {
     "data": {
      "image/png": "[encoded data removed]",
      "text/plain": [
       "<Figure size 432x288 with 1 Axes>"
      ]
     },
     "metadata": {
      "needs_background": "light"
     },
     "output_type": "display_data"
    }
   ],
   "source": [
    "params = P\n",
    "history = [ ]\n",
    "opt = K.optimizer(tf.keras.optimizers.Adam(1e-2))\n",
    "\n",
    "for _ in range(100):\n",
    "    v, g = ex_vg(params)\n",
    "    params = opt.update(g, params)\n",
    "    history.append(np.min(v.numpy()))\n",
    "\n",
    "plt.plot([i for i in range(100)], history)\n",
    "plt.ylabel(\"infidelity\")\n",
    "plt.xlabel(\"training step\")\n",
    "\n",
    "print(history[-1])"
   ]
  },
  {
   "cell_type": "code",
   "execution_count": null,
   "id": "71b62efc",
   "metadata": {},
   "outputs": [],
   "source": []
  }
 ],
 "metadata": {
  "kernelspec": {
   "display_name": "Python 3 (ipykernel)",
   "language": "python",
   "name": "python3"
  },
  "language_info": {
   "codemirror_mode": {
    "name": "ipython",
    "version": 3
   },
   "file_extension": ".py",
   "mimetype": "text/x-python",
   "name": "python",
   "nbconvert_exporter": "python",
   "pygments_lexer": "ipython3",
   "version": "3.10.5"
  }
 },
 "nbformat": 4,
 "nbformat_minor": 5
}
